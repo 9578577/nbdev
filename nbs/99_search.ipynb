{
 "cells": [
  {
   "cell_type": "markdown",
   "metadata": {},
   "source": [
    "# Setting up Search\n",
    "\n",
    "> Using Google Custom Search"
   ]
  },
  {
   "cell_type": "markdown",
   "metadata": {},
   "source": [
    "If you want to include Search functionality on your docs site, you need to set up a [Google Custom Search](https://cse.google.com/cse/all), and then link it to your nbdev project. Here's all the steps you need to follow (replace anything in `{}` with the value your have in `settings.ini`:"
   ]
  },
  {
   "cell_type": "markdown",
   "metadata": {},
   "source": [
    "1. Go to [Google Custom Search](https://cse.google.com/cse/all) and click 'add'.\n",
    "1. In \"Sites to search\" type the URL of your docs site (e.g. `{owner}.github.io/{lib_name}`), and in \"Name of the search engine\" type \"{lib_name} docs\". Then click \"CREATE\"\n",
    "1. Click \"Advanced\" (far-right tab), then \"CSE Context\", then \"Download (XML)\"\n",
    "1. Open the downloaded `cse.xml` file in a text editor, and delete everything from the line starting with `<LookAndFeel` onwards (including that line)\n",
    "1. Replace those lines with "
   ]
  },
  {
   "cell_type": "markdown",
   "metadata": {},
   "source": [
    "Once you've created the custom search engine in Google, copy the \"search engine id\" and use it as the value for \"google_search\" in `docs/_config.yml`."
   ]
  },
  {
   "cell_type": "markdown",
   "metadata": {},
   "source": [
    "## Usage tips"
   ]
  },
  {
   "cell_type": "markdown",
   "metadata": {},
   "source": [
    "To see what documents google is currently indexing at any particular URL, use the site: operator without any search term. e.g. \"site:docs.fast.ai\". You can use this to sense check what a search term ought to return as the result"
   ]
  },
  {
   "cell_type": "code",
   "execution_count": null,
   "metadata": {},
   "outputs": [],
   "source": []
  }
 ],
 "metadata": {
  "kernelspec": {
   "display_name": "Python 3",
   "language": "python",
   "name": "python3"
  }
 },
 "nbformat": 4,
 "nbformat_minor": 2
}
