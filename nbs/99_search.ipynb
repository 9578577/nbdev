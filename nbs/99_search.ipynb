{
 "cells": [
  {
   "cell_type": "markdown",
   "metadata": {},
   "source": [
    "# Setting up Search\n",
    "\n",
    "> Using Google Custom Search"
   ]
  },
  {
   "cell_type": "markdown",
   "metadata": {},
   "source": [
    "If you want to include Search functionality on your docs site, you need to set up a [Google Custom Search](https://cse.google.com/cse/all) engine (click 'add' on this link to create one), and then link it to your `_config.yml`. In the following sections we've listed all the settings we used for search functionality in docs.fast.ai, since they will probably we a reasonable starting point for you too. Once you've created the custom search engine in Google, copy the \"search engine id\" and use it as the value for \"google_search\" in `docs/_config.yml`."
   ]
  },
  {
   "cell_type": "markdown",
   "metadata": {},
   "source": [
    "## Setup"
   ]
  },
  {
   "cell_type": "markdown",
   "metadata": {},
   "source": [
    "- Basics\n",
    "  - Search engine name: YOUR_SITE/*\n",
    "  - Search engine description: Search documentation\n",
    "  - Search engine keywords: not currently used - see https://support.google.com/customsearch//answer/70357 for functionality\n",
    "  - Edition: Free, with ads (the “Get Code” button to the right of Edition is for displaying & copying the source script for embedding the custom search engine)\n",
    "  - Search engine ID: defined by Google (this ID needs to be the value of the cx Javascript variable in the script above)\n",
    "  - Public URL: [read only: for testing the custom search engine functionality outside of the context of any embedding]\n",
    "  - Image Search: Off\n",
    "  - SafeSearch: Off\n",
    "  - Language: English\n",
    "  - Sites to Search: https://YOUR_SITE\n",
    "  - NB: It’s possible to submit indexing and removal requests if needed - https://support.google.com/customsearch/answer/4513925\n",
    "  - Search the entire web: OFF\n",
    "  - Programmatic Access: via JSON API - not currently used - https://developers.google.com/custom-search/v1/introduction\n",
    "  - Restrict Pages using Schema.org Types: Not currently used\n",
    "- Ads: Left at default settings for Free Edition with Ads\n",
    "- Admin: Can add other users to add sites, refinements and promotions\n",
    "- Advanced: CSE context not used"
   ]
  },
  {
   "cell_type": "markdown",
   "metadata": {},
   "source": [
    "## Look and feel"
   ]
  },
  {
   "cell_type": "markdown",
   "metadata": {},
   "source": [
    "- Layout\n",
    "  - Currently uses \"Overlay\" layout\n",
    "  - (Choose from Overlay, Two page, Full width, Two column, Compact, Results only and Google hosted)\n",
    "- Themes: Currently set to \"Default\"\n",
    "- Customize: Currently set to default Arial font. Border collar and Background collar set to #347DBE\n",
    "- Thumbnails: Automatic thumbnails in search results: currently set to ON"
   ]
  },
  {
   "cell_type": "markdown",
   "metadata": {},
   "source": [
    "## Search features"
   ]
  },
  {
   "cell_type": "markdown",
   "metadata": {},
   "source": [
    "- Promotions: OFF\n",
    "- Refinements: None added\n",
    "- Autocomplete: ON\n",
    "  - NB: \"It can take up to 2-4 days for autocomplete to start appearing on your search engine” - https://support.google.com/customsearch/answer/4542657\n",
    "- Custom Autocompletions (Included, Excluded, Excluded Patterns): None added\n",
    "- Synonyms: None added\n",
    "- Advanced:\n",
    "  - Results sorting: using defaults: sorted by relevance and date\n",
    "  - Websearch Settings:\n",
    "    - Refinement Style: Links\n",
    "    - Results Browsing History: Disable\n",
    "    - Structured data in results: Disable\n",
    "    - No Results String: [no value in textbox]\n",
    "    - Link Target: _parent [this is needed so a new browser tab isn't opened when clicking/tapping a result link]\n",
    "    - Query Addition: [no value in textbox]\n",
    "    - Query Parameter Name: [no value in textbox]\n",
    "  - Websearch Restricts:\n",
    "    - Language Restrict: All Languages (restricts search results to documents written in the defined language/s)\n",
    "    - Country Restrict: All Languages (restricts search results to documents originating in the defined countries)\n",
    "    - Boost Results By Locale: All Countries (Boost search results whose country of origin matches the defined values)\n",
    "    - Result Size: [no value in textbox]\n",
    "    - Sort By: relevance\n",
    "    - As Sitesearch: [no value in textbox]\n",
    "    - Extra Query Terms: [no value in textbox]\n",
    "    - Filter: No value set (boolean option True or False)\n",
    "  - Imagesearch Settings:\n",
    "    - Language Restrict: All Languages (restricts search results to documents written in the defined language/s)\n",
    "    - Country Restrict: All Languages (restricts search results to documents originating in the defined countries)\n",
    "    - Boost Results By Locale: All Countries (Boost search results whose country of origin matches the defined values)\n",
    "    - Result Size: [no value in textbox]\n",
    "    - Sort By: relevance\n",
    "    - As Sitesearch: [no value in textbox]\n",
    "    - Extra Query Terms: [no value in textbox]\n",
    "    - Filter: No value set (boolean option True or False)\n",
    "    - Default to Imagesearch: Disable"
   ]
  },
  {
   "cell_type": "markdown",
   "metadata": {},
   "source": [
    "## Statistics and logs"
   ]
  },
  {
   "cell_type": "markdown",
   "metadata": {},
   "source": [
    "- Currently  left at default settings for all tabs (Stats, Google Analytics, Audit Log)\n",
    "- Enter the Google Analytics account details - as defined in _config.yml"
   ]
  },
  {
   "cell_type": "markdown",
   "metadata": {},
   "source": [
    "## Usage tips"
   ]
  },
  {
   "cell_type": "markdown",
   "metadata": {},
   "source": [
    "To see what documents google is currently indexing at any particular URL, use the site: operator without any search term. e.g. \"site:docs.fast.ai\". You can use this to sense check what a search term ought to return as the result"
   ]
  },
  {
   "cell_type": "code",
   "execution_count": null,
   "metadata": {},
   "outputs": [],
   "source": []
  }
 ],
 "metadata": {
  "kernelspec": {
   "display_name": "Python 3",
   "language": "python",
   "name": "python3"
  }
 },
 "nbformat": 4,
 "nbformat_minor": 2
}
