{
 "cells": [
  {
   "cell_type": "code",
   "execution_count": 6,
   "metadata": {},
   "outputs": [],
   "source": [
    "# default_exp example\n",
    "from nbdev import *"
   ]
  },
  {
   "cell_type": "markdown",
   "metadata": {},
   "source": [
    "# A Minimal Example\n",
    "\n",
    "> A minimal end to end example of setting up a nbdev repo from scratch."
   ]
  },
  {
   "cell_type": "markdown",
   "metadata": {},
   "source": [
    "This section assumes you have gone through the [tutorial](https://nbdev.fast.ai/tutorial.html).  The following is a minimal example of creating a nbdev repo from scratch, with some commentary around why certain things work they way they do.  \n",
    "\n",
    "For this example, we will use some code from [Allen Downey's excellent book Think Python 2](https://github.com/AllenDowney/ThinkPython2), particularly the [Card](https://github.com/AllenDowney/ThinkPython2/blob/master/code/Card.py) module.  We will not cover all the features of nbdev and provide you with just enough information to become productive. "
   ]
  },
  {
   "cell_type": "markdown",
   "metadata": {},
   "source": [
    "# Step 1: Setup your nbdev GitHub Repo"
   ]
  },
  {
   "cell_type": "markdown",
   "metadata": {},
   "source": [
    "Per the instructions in the tutorial, you want to make a repository using a template.  In this cse, we are going to make a repository called [deck_of_cards](https://github.com/fastai/deck_of_cards). \n",
    "\n",
    "> Note: If you plan on writing installable python modules I highly recommend naming your repo to be the same name as your python module.  For example, I plan on creating a python package called `deck_of_cards`:"
   ]
  },
  {
   "cell_type": "markdown",
   "metadata": {},
   "source": [
    "![image.png](images/att_00010.png)"
   ]
  },
  {
   "cell_type": "markdown",
   "metadata": {},
   "source": [
    "After you do this, you will have a repo with the necessary files to get started.  You should also install nbdev and the githooks per the instructions in the tutorial.\n",
    "\n",
    "\n",
    "# Step 2: Modify Configuration Files\n",
    "\n",
    "## Edit settings.ini\n",
    "\n",
    "[Customizing settings.ini](https://nbdev.fast.ai/tutorial.html#Edit-settings.ini) is required to set everything up properly.  These settings are used to populate required information for you to host documentation on [GitHub Pages](https://nbdev.fast.ai/tutorial.html#Github-pages), as well to [publish your modules as packages to pypi](https://nbdev.fast.ai/tutorial.html#Upload-to-pypi).\n",
    "\n",
    "These are the fields that were changed in [settings.ini](https://github.com/fastai/deck_of_cards/blob/master/settings.ini):\n",
    "\n",
    "```ini\n",
    "lib_name = deck_of_cards\n",
    "description = \"A minimal example of nbdev using code from Allen Downey's Think Python 2nd Ed\"\n",
    "keywords = nbdev\n",
    "author = Hamel Husain\n",
    "author_email = hamel@example.com\n",
    "copyright = Hamel, inc.\n",
    "user = fastai\n",
    "```\n",
    "\n",
    "The reason for having settings.ini file is these settings are propagated to various systems so to minimize the amount of code you have to write and the number of files you have to configure.  For example, \n",
    "\n",
    "- the `author` and `author_email` fields are read by [setup.py](https://github.com/fastai/deck_of_cards/blob/master/setup.py) for python packaging\n",
    "- the `lib_name` is used by both by [setup.py](https://github.com/fastai/deck_of_cards/blob/master/setup.py) and [Jekyll](https://jekyllrb.com/)'s configuration file, [_config.yaml](https://github.com/fastai/deck_of_cards/blob/master/docs/_config.yml) to make sure the rendered docs are configured correctly on GitHub pages."
   ]
  },
  {
   "cell_type": "markdown",
   "metadata": {},
   "source": [
    "# Step 3: Write Code (or copy/paste existing code)\n",
    "\n",
    "## Create card.py (via a jupyter notebook)\n",
    "\n",
    "We want to take `Card` from [Allen's repo](https://github.com/AllenDowney/ThinkPython2/blob/master/code/Card.py#L17) and write it in nbdev.  \n",
    "\n",
    "The first step is to copy and paste the `Card` class into a new jupyter notebook, which we have named [00_card.ipynb](https://github.com/fastai/deck_of_cards/blob/master/00_card.ipynb). Copying and pasting code from python files is a reasonable way to convert existing python scripts into Jupyter notebooks.  A useful trick for copying big blocks of code into notebooks is to copy the whole file into a single cell and use `ctrl-shift-minus` to split the code into seperate cells.\n",
    "\n",
    "> Note: The number at the beginning of the filename is not required, and is a convention I use to keep my notebooks in my desired sorted order in my file system. \n",
    "\n",
    "> Note:  If you trying to convert an existing python project to nbdev we recommend incrementally converting specific files to nbdev over time. Specifically, we ecommend choosing one python file to begin with like the example with `card.py` shown below, so you can understand how nbdev works before proceeding."
   ]
  },
  {
   "cell_type": "markdown",
   "metadata": {},
   "source": [
    "In the very first cell of [the notebook](https://github.com/fastai/deck_of_cards/blob/master/00_card.ipynb), you should write a comment that looks like this\n",
    "\n",
    "```py\n",
    "# default_exp card\n",
    "```\n",
    "\n",
    "In this case, the argument `card` specifies that code exported from this notebook should be placed in the destination `card.py` by default.  You can read more about this [here](https://nbdev.fast.ai/export.html). A reasonable way to arrange the notebook will be like this:\n",
    "\n",
    "![image.png](images/att_00011.png)\n",
    "\n",
    "\n",
    "### Flags\n",
    "\n",
    "nbdev uses special comments, or flags as a markup language that allows you to control various aspects of the docs and how code is exported to modules, and how code is tested. In addition to `default_exp`, the the following other flags are present in this notebook:\n",
    "\n",
    "```py\n",
    "#hide\n",
    "```\n",
    "> Note: This comment instructs nbdev to hide this cell when generating the docs.\n",
    "\n",
    "```py\n",
    "#export\n",
    "```\n",
    "> Note: This comment intructs nbdev to export this cell to the appropriate python file.  When no argument is provided to `export`, this defaults to the module specified by `default_exp` as described above.\n",
    "\n",
    "\n",
    "### Where The Magic Happens: Write Documentation And Tests\n",
    "\n",
    "In the original code base, tests for Card are seperate, and located in [Card_test.py](https://github.com/AllenDowney/ThinkPython2/blob/master/code/Card_test.py).  Furthermore, the documentation for `Card` is primarly located in the [book folder](https://github.com/AllenDowney/ThinkPython2/tree/master/book) of Allen's repo as well as some documentation in the docstring.  While this is a typical arrangement for a python project, we believe nbdev can make your workflow much easier by organizing the docs, tests and source code into a single context.  We believe this allows developers to write higher quality documentation and code, and encourages more testing.  \n",
    "\n",
    "Here is what the documentation + code looks like for Card:\n",
    "\n",
    "![image.png](images/att_00012.png)\n",
    "\n",
    "These comments and tests will get rendered by the documentation system which we will discuss in a later section.  Furthermore, the assert statements will automatically become tests and even run in your [continuous integration system which is setup by default](https://nbdev.fast.ai/tutorial.html#CI) with your nbdev repository. \n",
    "\n",
    "> Note: The nbdev programming environment comes setup with a [continuous integration (CI)](https://nbdev.fast.ai/tutorial.html#CI) system for you.  You don't have to do anything extra to enable it, and it starts working immediately.  This is great especially for people who have no experience with CI, it is a gentle way to start using it.\n",
    "\n",
    "> Important: There are testing utilities provided by [fastcore's testing utilities](https://fastcore.fast.ai/test.html), which provider wrappers around common types of assert statements and also provide better default error messages.  This is optional, however we recommend using these utilities as appropriate.\n",
    "\n"
   ]
  },
  {
   "cell_type": "markdown",
   "metadata": {},
   "source": [
    "## Edit index.ipynb"
   ]
  },
  {
   "cell_type": "markdown",
   "metadata": {},
   "source": [
    "Nbdev repositories require a notebook named `index.ipynb`, which is included in your repository when you use the template.  `index.ipynb` serves two purposes:\n",
    "\n",
    "1. Becomes the README for your repo (this notebook is converted to `README.md`)\n",
    "2. Becomes home page for your documentation.  This notebook is also converted to an `index.html` for your home page.\n",
    "\n",
    "You will notice the following boilerplate in `index.ipynb`:\n",
    "\n",
    "```py\n",
    "from your_lib.core import *\n",
    "```\n",
    "\n",
    "You should remove this line of code or comment it out, as it will cause a syntax error.  Later, when you are finished created your module, you can replace this with the appropriate import statement."
   ]
  },
  {
   "cell_type": "markdown",
   "metadata": {},
   "source": [
    "# Step 4:  Convert Notebooks To Python Modules & Docs\n",
    "\n",
    "**Run the command `nbdev_build_lib`** from the root of the repo.  This will loop through all of your notebooks, and export cells tagged with `#export` to the appropriate python module.  For example the notebook [00_cards.ipynb](https://github.com/fastai/deck_of_cards/blob/master/00_card.ipynb) gets converted to [card.py](https://github.com/fastai/deck_of_cards/blob/master/deck_of_cards/card.py).  _this step happens automatically \n",
    "\n",
    "**Run the command `nbdev_test_nbs`** to run the code and tests in all the notebooks.  This command also gets run for you in the [continuous integration system setup for you by nbdev](https://nbdev.fast.ai/tutorial.html#CI), but it is useful to run these tests locally to get immediate feedback.\n",
    "\n",
    "> Note: there is a way to skip certain tests that are long running or slow by using special tags [described here](https://nbdev.fast.ai/test.html)\n",
    "\n",
    "\n",
    "## Preview The Docs\n",
    "\n",
    "To preview the docs, you want to run the command `make docs_serve` from the root of your repo.  This make command runs the command `nbdev_build_docs` behind the scenes for you, which generates the docs from notebooks.  You will see a URL in the terminal indicating where the docs have been hosted locally.  For the [fastai/deck_of_cards](https://github.com/fastai/deck_of_cards/) repository I'm using in this example the url is `http://127.0.0.1:4000/deck_of_cards/`\n",
    "\n",
    "If you navigate to the cards page at `http://127.0.0.1:4000/deck_of_cards/card.html`, you will see the docs that we just wrote, which we have annotated for further explanation:\n",
    "\n",
    "![image.png](images/att_00016.png)\n",
    "\n",
    "Explanation of annotations:\n",
    "\n",
    "1. The heading corresponds to the first H1 heading in a notebook, with a note block as the summary, which is produced by this markdown:\n",
    "\n",
    "```md\n",
    "# Card\n",
    "> API Details\n",
    "```\n",
    "\n",
    "2. nbdev docs automatically render a Table of Contents for you.\n",
    "3. nbdev automaticcally render the signature of your class or function as a heading, and if present will automatically parse type hints and add those too!  \n",
    "4. nbdev automatically adds a link to the corresponding source code (which is a plain-text python file) on GitHub.  Remember nbdev converts jupyter notebooks to source code with the command `nbdev_build_lib`.  \n",
    "5. This part of docs is rendered automatically from the docstring.\n",
    "6. The rest of the notebook is rendered as usual.  You can hide entire cells, hide only cell input or hide output by using the [flags described on this page](https://nbdev.fast.ai/export2html.html).\n",
    "7.  nbdev supports special block quotes that render as colored boxes.  You can read more about them [here](https://nbdev.fast.ai/export2html.html#add_jekyll_notes).  In this specific example, we are using the `Note` block quote. \n",
    "8. Words you surround in backticks will be automatically hyperlinked to the associated documentation where appropriate. This is a trivial case where the link is to the class defined immediately above, however it works across pages and modules.  We will see another example of this in later steps.\n",
    "\n",
    "### show_doc\n",
    "\n",
    "`show_doc` allows you to control how documentation is shown on the docs.  You can control the location, order, heading and other details of how documentation is rendered.  You can read more [about it here](https://nbdev.fast.ai/showdoc.html#show_doc).   For example, this is how you can use `show_doc` to render the docs for the `__eq__` method of Card (notice how the tests are naturally included below the documentation):\n",
    "\n",
    "![image.png](images/att_00017.png)\n",
    "\n",
    "\n",
    "## Refresh the docs\n",
    "\n",
    "If you want to edit the docs, you can make a change to the corresponding notebooks and run `nbdev_build_docs` followed by a [hard refresh](https://www.getfilecloud.com/blog/2015/03/tech-tip-how-to-do-hard-refresh-in-browsers/#.X52j8lNKjng) in your browser to re-render the docs."
   ]
  },
  {
   "cell_type": "markdown",
   "metadata": {},
   "source": [
    "# Step 5 Push Files To GitHub, View Hosted Docs\n"
   ]
  },
  {
   "cell_type": "markdown",
   "metadata": {},
   "source": [
    "At this point we are ready to push your first files to GitHub.  If you have [installed git hooks, per the tutorial instructions](https://nbdev.fast.ai/#Avoiding-and-handling-git-conflicts) nbdev will automatically clean uncessary metadata out of notebooks to avoid conflicts and overly verbose diffs.  \n",
    "\n",
    "Before pushing your files to github for the first time, we recommend running the command `git status` so you can see all the files generated by nbdev for you.  You will notice that the following files were created:\n",
    "\n",
    "- `.py` files corresponding to the notebooks you created, in a folder corresponding to the library name, which in this case is called [deck_of_cards](https://github.com/fastai/deck_of_cards/tree/master/deck_of_cards). For example, an `__init__.py` file is automatically created in the proper directory in order to organize a python module.\n",
    "- files for your docs site in a `docs/` folder. This directory contains HTML, CSS, and other files that are used for hosting your docs site on GitHub Pages. \n",
    "\n",
    "You should need to make sure you add all these files to your commit (with `git add`) when you push to GitHub, because they are all needed for everything to work correctly. \n",
    "\n",
    "After pushing your files to GitHub, this will automatically trigger the [continuous integration (CI) process using GitHub Actions.](https://nbdev.fast.ai/#Using-nbdev-as-part-of-your-CI).  This CI process will automatically perform a number of checks [outlined here](https://nbdev.fast.ai/tutorial.html#CI).  You can see the CI process running in GitHub Actions by navigating to the Actions tab in your GitHub Repo.  \n",
    "\n",
    "\n",
    "After pushing your files, GitHub will rebuild your docs automatically.  You can view the status of your doc build by going to settings and finding the GitHub Pages section under options.  When GitHub is in the process of bulding your pages, it will look like this:\n",
    "\n",
    "![image.png](images/att_00018.png)\n",
    "\n",
    "\n",
    "When the page is finished being built, the color and status message will change and look like this:\n",
    "\n",
    "![image.png](images/att_00019.png)\n",
    "\n",
    "Furthermore, assuming that you have already [enabled GitHub Pages properly](https://nbdev.fast.ai/tutorial.html#Github-pages),you can see the status of your Github Pages deployments at anytime. If you add `/deployments` to your repository's GitHub URL you will see a deployments dashboard.  For example, below is a screen shot of https://github.com/fastai/deck_of_cards/deployments right after pushing new files:\n",
    "\n",
    "![image.png](images/att_00021.png)"
   ]
  },
  {
   "cell_type": "markdown",
   "metadata": {},
   "source": [
    "# Step 6 Add More Code\n",
    "\n",
    "Congratulations, you authored your first piece of code with nbdev!  However, to fully grasp how nbdev works, it is worthwhile to add additional code in a new notebook, which imports the code you wrote earlier.  Next, we will add the [Deck class form cards.py](https://github.com/AllenDowney/ThinkPython2/blob/master/code/Card.py#L55) into a new notebook called [01_deck.ipynb](https://github.com/fastai/deck_of_cards/blob/master/01_deck.ipynb).  This notebook imports the previously created `Card` class and creates a `Deck`, which is a collection of Cards:\n",
    "\n",
    "![image.png](images/att_00022.png)\n",
    "\n",
    "Similarly to the previous notebook, the first cell has the nbdev flag `# default_exp deck` which means to export code to the file `deck.py`. You can see that we import the `Card` object and export that code to `deck.py` with the following code cell:\n",
    "\n",
    "```py\n",
    "#export\n",
    "from deck_of_cards.card import Card\n",
    "```\n",
    "\n",
    "This works because the cli command, `nbdev_build_lib` converted `00_card.ipynb` to `card.py`, which we have imported here.\n",
    "\n",
    "## Tests\n",
    "\n",
    "Downey's code contains a test for the `Deck` class in a seperate file called [Card_test.py]( https://github.com/AllenDowney/ThinkPython2/blob/master/code/Card_test.py).  This file is a good example that highlights the strengths of `nbdev`. The contents of this file is as follows:\n",
    "\n",
    "```py\n",
    "\"\"\"This file contains code for use with \"Think Stats\",\n",
    "by Allen B. Downey, available from greenteapress.com\n",
    "Copyright 2014 Allen B. Downey\n",
    "License: GNU GPLv3 http://www.gnu.org/licenses/gpl.html\n",
    "\"\"\"\n",
    "\n",
    "from __future__ import print_function, division\n",
    "\n",
    "import unittest\n",
    "from Card import Card, Deck\n",
    "\n",
    "\n",
    "class Test(unittest.TestCase):\n",
    "\n",
    "    def testDeckRemove(self):\n",
    "        deck = Deck()\n",
    "        card23 = Card(2, 3)\n",
    "        deck.remove_card(card23)\n",
    "\n",
    "\n",
    "if __name__ == \"__main__\":\n",
    "    unittest.main()\n",
    "```\n",
    "\n",
    "The code shown is problematic for the following reasons:\n",
    "\n",
    "- It is not clear what the purpose of the test is. \n",
    "- The test is located in a file that is separate from the implementation, so you have to open multiple windows and/or switch contexts to understand the test. \n",
    "- The tests uses an api, `unittest` that you must learn and think about if you want to write tests.\n",
    "- The tests are separate from the documentation and any prose associated with explaining what the class `Deck` does.  \n",
    "\n",
    "All of these problems are handled in nbdev, as you can code, docs, and tests all in the same context.  Below is a screen shot of the relevant parts of [01_deck.ipynb](https://github.com/fastai/deck_of_cards/blob/master/01_deck.ipynb) that expresses the code and this test in a more  readable, expressive way:\n",
    "\n",
    "\n",
    "![image.png](images/att_00023.png)\n",
    "\n",
    "The above code expresses the same unit test, but also integrates documentation alongside the original implementation of Deck.  You can view the notebook on GitHub [here](https://github.com/fastai/deck_of_cards/blob/master/01_deck.ipynb).  One additional tool shown in this notebook is the `nbdev` function `show_doc`, which allows you to control the placement of documentation.  In this example, `showdoc(Deck.remove_card)` will create a section in the documentation with an appropriate heading.\n",
    "\n",
    "If you run the CLI command `make docs_serve`, you can preview what these docs will look like locally.  Below is an annotated screenshot of what this looks like:\n",
    "\n",
    "![image.png](images/att_00024.png)\n",
    "\n",
    "Explanation of annotations:\n",
    "\n",
    "1. When writing these docs, we simply enclosed `Card` with backticks.  `nbdev` automatically transforms this into a hyperlink to the appropriate page that documents `Card`.  \n",
    "\n",
    "2. This heading for the method `Deck.remove_card` was created by `show_doc`.\n",
    "\n",
    "3. `nbdev` is designed to encourage you to write your tests as part of your documentation as shown here.\n",
    "\n",
    "You can see this page live at [https://fastai.github.io/deck_of_cards/deck.html](https://fastai.github.io/deck_of_cards/deck.html).\n",
    "\n",
    "When you are done make sure you run the following cli commands before pushing to GitHub.\n",
    "\n",
    "- `nbdev_build_lib`: this converts your notebooks into modules.\n",
    "- `nbdev_build_docs`: this generates the your documentation site.\n",
    "- `nbdev_test_nbs`: this runs all your tests (which is a good idea so you can catch errors).\n",
    "- `git status` to see which files have changed, which is a good exercise when first getting started with `nbdev` to understand which files are automatically generated."
   ]
  },
  {
   "cell_type": "markdown",
   "metadata": {},
   "source": [
    "# Step 7 Publish Python Module to Pypi"
   ]
  },
  {
   "cell_type": "code",
   "execution_count": null,
   "metadata": {},
   "outputs": [],
   "source": []
  }
 ],
 "metadata": {
  "kernelspec": {
   "display_name": "Python 3",
   "language": "python",
   "name": "python3"
  },
  "language_info": {
   "codemirror_mode": {
    "name": "ipython",
    "version": 3
   },
   "file_extension": ".py",
   "mimetype": "text/x-python",
   "name": "python",
   "nbconvert_exporter": "python",
   "pygments_lexer": "ipython3",
   "version": "3.8.3"
  }
 },
 "nbformat": 4,
 "nbformat_minor": 4
}
