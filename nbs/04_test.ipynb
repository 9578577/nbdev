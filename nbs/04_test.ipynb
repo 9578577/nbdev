{
 "cells": [
  {
   "cell_type": "code",
   "execution_count": null,
   "metadata": {},
   "outputs": [],
   "source": [
    "# export\n",
    "from nbdev.imports import *\n",
    "from nbdev.sync import *\n",
    "from nbdev.export import *\n",
    "from nbdev.export import _mk_flag_re\n",
    "\n",
    "from nbconvert.preprocessors import ExecutePreprocessor"
   ]
  },
  {
   "cell_type": "code",
   "execution_count": null,
   "metadata": {},
   "outputs": [],
   "source": [
    "# default_exp test"
   ]
  },
  {
   "cell_type": "markdown",
   "metadata": {},
   "source": [
    "# Extract tests\n",
    "\n",
    "> The functions that grab the cells containing tests (filtering with potential flags) and execute them"
   ]
  },
  {
   "cell_type": "markdown",
   "metadata": {},
   "source": [
    "Everything that is not an exported cell is considered a test, so you should make sure your notebooks can all run smoothly (and fast) if you want to use this functionality as the CLI. You can mark some cells with special flags (like slow) to make sure they are only executed when you authorize it. Those flags should be configured in your `settings.ini` (separated by a `|` if you have several of them). You can also apply a flag to one entire notebook by putting `# all_flag` in one of its cells."
   ]
  },
  {
   "cell_type": "markdown",
   "metadata": {},
   "source": [
    "## Detect flags"
   ]
  },
  {
   "cell_type": "markdown",
   "metadata": {},
   "source": [
    "The following functions detect the cells that should be excluded from the tests (unless their special flag is passed)."
   ]
  },
  {
   "cell_type": "code",
   "execution_count": null,
   "metadata": {},
   "outputs": [],
   "source": [
    "#export\n",
    "class _ReTstFlags():\n",
    "    \"Provides test flag matching regular expressions\"\n",
    "    def __init__(self, all_flag): self.all_flag = all_flag\n",
    "    \n",
    "    @property\n",
    "    def re(self):\n",
    "        \"Compile at first use but not before since patterns need `Config().tst_flags`\"\n",
    "        if not hasattr(self, '_re'):\n",
    "            tst_flags = Config().get('tst_flags', '')\n",
    "            _re_all, _re_magic_all = ('all_', '[ \\t]+all') if self.all_flag else ('', '')\n",
    "            self._re = _mk_flag_re(False, f\"{_re_all}({tst_flags})\", 0,\n",
    "                \"Matches any line with a test flag and catches it in a group\")\n",
    "            self._re_magic = _mk_flag_re(True, f\"({tst_flags})_test{_re_magic_all}\", 0,\n",
    "                \"Matches any line with a magic test flag and catches it in a group\")\n",
    "        return self._re, self._re_magic"
   ]
  },
  {
   "cell_type": "code",
   "execution_count": null,
   "metadata": {},
   "outputs": [],
   "source": [
    "#export\n",
    "_re_all_flag = _ReTstFlags(True)"
   ]
  },
  {
   "cell_type": "code",
   "execution_count": null,
   "metadata": {},
   "outputs": [],
   "source": [
    "# export\n",
    "def check_all_flag(cells):\n",
    "    \"Check for an `# all_flag` cell and then return said flag\"\n",
    "    for cell in cells:\n",
    "        m = check_re_multi(cell, _re_all_flag.re)\n",
    "        if m: return m.groups()[0]"
   ]
  },
  {
   "cell_type": "code",
   "execution_count": null,
   "metadata": {},
   "outputs": [],
   "source": [
    "nb = read_nb(\"04_test.ipynb\")\n",
    "assert check_all_flag(nb['cells']) is None"
   ]
  },
  {
   "cell_type": "code",
   "execution_count": null,
   "metadata": {},
   "outputs": [],
   "source": [
    "#hide\n",
    "tst_flags_bck=Config().get('tst_flags')\n",
    "try:\n",
    "    Config()['tst_flags'] = 'fastai2|vslow'\n",
    "    del _re_all_flag._re\n",
    "    cells = [{'cell_type': cell_type, 'source': source} for cell_type, source in [\n",
    "        ('code', '# export\\nfrom local.core import *'), \n",
    "        ('markdown', '# title of some kind'), \n",
    "        ('code', '# all_vslow \\n# all_fastai2'),\n",
    "        ('code', '%nbdev_vslow_test all\\n# all_fastai2'), # comment flag gets picked up before magic\n",
    "        ('code', '%nbdev_vslow_test all '),\n",
    "        ('code', '# all_fastai2'),\n",
    "        ('code', '%nbdev_fastai2_test  all\\n')]]\n",
    "    for expected in ['vslow', 'fastai2', 'vslow', 'fastai2', 'fastai2']:\n",
    "        test_eq(expected, check_all_flag(cells))\n",
    "        cells.pop(2)\n",
    "finally:\n",
    "    Config()['tst_flags'] = tst_flags_bck\n",
    "    del _re_all_flag._re"
   ]
  },
  {
   "cell_type": "code",
   "execution_count": null,
   "metadata": {},
   "outputs": [],
   "source": [
    "#export\n",
    "_re_flags = _ReTstFlags(False)"
   ]
  },
  {
   "cell_type": "code",
   "execution_count": null,
   "metadata": {},
   "outputs": [],
   "source": [
    "# export\n",
    "def get_cell_flags(cell):\n",
    "    \"Check for any special test flag in `cell`\"\n",
    "    if cell['cell_type'] != 'code' or len(Config().get('tst_flags',''))==0: return []\n",
    "    return _re_flags.re[0].findall(cell['source']) + _re_flags.re[1].findall(cell['source'])"
   ]
  },
  {
   "cell_type": "code",
   "execution_count": null,
   "metadata": {},
   "outputs": [],
   "source": [
    "test_eq(get_cell_flags({'cell_type': 'code', 'source': \"#hide\\n# fastai2\\n\"}), ['fastai2'])\n",
    "test_eq(get_cell_flags({'cell_type': 'code', 'source': \"#hide\\n\"}), [])"
   ]
  },
  {
   "cell_type": "code",
   "execution_count": null,
   "metadata": {},
   "outputs": [],
   "source": [
    "#hide\n",
    "for expected, flag in [(['fastai2'], 'fastai2'), ([], 'vslow')]:\n",
    "    test_eq(expected, get_cell_flags(nbformat.v4.new_code_cell(f\"#hide\\n# {flag}\\n\")))\n",
    "    test_eq(expected, get_cell_flags(nbformat.v4.new_code_cell(f\"#hide\\n%nbdev_{flag}_test\\n\")))\n",
    "    test_eq(expected, get_cell_flags(nbformat.v4.new_code_cell(f\"# {flag}\\n#hide\\n\")))\n",
    "    test_eq(expected, get_cell_flags(nbformat.v4.new_code_cell(f\"%nbdev_{flag}_test\\n#hide\\n\")))\n",
    "    test_eq([], get_cell_flags(nbformat.v4.new_code_cell(\"#hide\\n\")))\n",
    "    test_eq([], get_cell_flags(nbformat.v4.new_code_cell(f\"# all_{flag}\")))\n",
    "    test_eq([], get_cell_flags(nbformat.v4.new_code_cell(f\"%nbdev_{flag}_test all\")))\n",
    "tst_flags_bck=Config().get('tst_flags')\n",
    "try:\n",
    "    Config()['tst_flags'] = 'fastai2|vslow'\n",
    "    del _re_flags._re\n",
    "    test_eq(['vslow'], get_cell_flags(nbformat.v4.new_code_cell(f\"#hide\\n# vslow\\n\")))\n",
    "    test_eq(['vslow'], get_cell_flags(nbformat.v4.new_code_cell(f\"#hide\\n%nbdev_vslow_test\\n\")))\n",
    "    test_eq(['vslow', 'fastai2'], get_cell_flags(nbformat.v4.new_code_cell(f\"#hide\\n# vslow\\n# fastai2\")))\n",
    "    test_eq(['fastai2', 'vslow'], get_cell_flags(nbformat.v4.new_code_cell(f\"%nbdev_fastai2_test\\n%nbdev_vslow_test\")))\n",
    "finally:\n",
    "    Config()['tst_flags'] = tst_flags_bck\n",
    "    del _re_flags._re"
   ]
  },
  {
   "cell_type": "markdown",
   "metadata": {},
   "source": [
    "## Testing a notebook"
   ]
  },
  {
   "cell_type": "code",
   "execution_count": null,
   "metadata": {},
   "outputs": [],
   "source": [
    "# export\n",
    "class NoExportPreprocessor(ExecutePreprocessor):\n",
    "    \"An `ExecutePreprocessor` that executes cells that are not exported and don't have a flag in `flags`\"\n",
    "    def __init__(self, flags, **kwargs):\n",
    "        self.flags = flags\n",
    "        super().__init__(**kwargs)\n",
    "\n",
    "    def preprocess_cell(self, cell, resources, index):\n",
    "        if 'source' not in cell or cell['cell_type'] != \"code\": return cell, resources\n",
    "        for f in get_cell_flags(cell):\n",
    "            if f not in self.flags:  return cell, resources\n",
    "        res = super().preprocess_cell(cell, resources, index)\n",
    "        return res"
   ]
  },
  {
   "cell_type": "code",
   "execution_count": null,
   "metadata": {},
   "outputs": [],
   "source": [
    "# export\n",
    "def test_nb(fn, flags=None):\n",
    "    \"Execute tests in notebook in `fn` with `flags`\"\n",
    "    os.environ[\"IN_TEST\"] = '1'\n",
    "    if flags is None: flags = []\n",
    "    try:\n",
    "        nb = read_nb(fn)\n",
    "        all_flag = check_all_flag(nb['cells'])\n",
    "        if all_flag is not None and all_flag not in flags: return\n",
    "        mod = find_default_export(nb['cells'])\n",
    "        ep = NoExportPreprocessor(flags, timeout=600, kernel_name='python3')\n",
    "        pnb = nbformat.from_dict(nb)\n",
    "        ep.preprocess(pnb)\n",
    "    finally: os.environ.pop(\"IN_TEST\")"
   ]
  },
  {
   "cell_type": "markdown",
   "metadata": {},
   "source": [
    "## Export-"
   ]
  },
  {
   "cell_type": "code",
   "execution_count": null,
   "metadata": {},
   "outputs": [
    {
     "name": "stdout",
     "output_type": "stream",
     "text": [
      "Converted 00_export.ipynb.\n",
      "Converted 01_sync.ipynb.\n",
      "Converted 02_showdoc.ipynb.\n",
      "Converted 03_export2html.ipynb.\n",
      "Converted 04_test.ipynb.\n",
      "Converted 05_merge.ipynb.\n",
      "Converted 06_cli.ipynb.\n",
      "Converted 07_clean.ipynb.\n",
      "Converted 08_flags.ipynb.\n",
      "Converted 99_search.ipynb.\n",
      "Converted index.ipynb.\n",
      "Converted tutorial.ipynb.\n"
     ]
    }
   ],
   "source": [
    "#hide\n",
    "notebook2script()"
   ]
  },
  {
   "cell_type": "code",
   "execution_count": null,
   "metadata": {},
   "outputs": [],
   "source": []
  }
 ],
 "metadata": {
  "kernelspec": {
   "display_name": "Python 3",
   "language": "python",
   "name": "python3"
  }
 },
 "nbformat": 4,
 "nbformat_minor": 2
}
