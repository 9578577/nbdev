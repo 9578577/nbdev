{
 "cells": [
  {
   "cell_type": "code",
   "execution_count": 14,
   "metadata": {
    "hide_input": false
   },
   "outputs": [],
   "source": [
    "# export\n",
    "from nbdev.imports import *"
   ]
  },
  {
   "cell_type": "code",
   "execution_count": 15,
   "metadata": {},
   "outputs": [],
   "source": [
    "# default_exp export\n",
    "# default_cls_lvl 3"
   ]
  },
  {
   "cell_type": "markdown",
   "metadata": {},
   "source": [
    "# Converting notebooks to modules\n",
    "\n",
    "> The functions that transform notebooks in a library"
   ]
  },
  {
   "cell_type": "markdown",
   "metadata": {},
   "source": [
    "## Basic foundations"
   ]
  },
  {
   "cell_type": "markdown",
   "metadata": {},
   "source": [
    "For bootstrapping nbdev we have a few basic foundations defined in `imports`, which we test a show here. First, a simple config file class, `Config`:"
   ]
  },
  {
   "cell_type": "code",
   "execution_count": 16,
   "metadata": {},
   "outputs": [],
   "source": [
    "cfg = Config.create(\"nbdev\", user='fastai', path='..', tst_flags='tst', cfg_name='test_settings.ini')\n",
    "test_eq(Config().lib_name, 'nbdev')\n",
    "test_eq(Config().git_url, \"https://github.com/fastai/nbdev/tree/master/\")\n",
    "test_eq(Config().lib_path, Path.cwd().parent/'nbdev')\n",
    "test_eq(Config().nbs_path, Path.cwd())\n",
    "test_eq(Config().doc_path, Path.cwd().parent/'docs')\n",
    "test_eq(Config().version, '0.0.1')"
   ]
  },
  {
   "cell_type": "code",
   "execution_count": 6,
   "metadata": {},
   "outputs": [],
   "source": [
    "from nbdev.version import *\n",
    "test_eq(__version__, '0.0.1')"
   ]
  },
  {
   "cell_type": "markdown",
   "metadata": {},
   "source": [
    "We derive some useful variables to check what environment we're in:"
   ]
  },
  {
   "cell_type": "code",
   "execution_count": 4,
   "metadata": {},
   "outputs": [],
   "source": [
    "assert IN_NOTEBOOK\n",
    "assert not IN_COLAB\n",
    "assert IN_IPYTHON"
   ]
  },
  {
   "cell_type": "markdown",
   "metadata": {},
   "source": [
    "`last_index` is a simple function to find the last occurance of a value in a collection."
   ]
  },
  {
   "cell_type": "code",
   "execution_count": 5,
   "metadata": {},
   "outputs": [],
   "source": [
    "test_eq(last_index(1, [1,2,1,3,1,4]), 4)\n",
    "test_eq(last_index(2, [1,2,1,3,1,4]), 1)\n",
    "test_eq(last_index(5, [1,2,1,3,1,4]), -1)"
   ]
  },
  {
   "cell_type": "markdown",
   "metadata": {},
   "source": [
    "And `compose` does basic function composition."
   ]
  },
  {
   "cell_type": "code",
   "execution_count": 6,
   "metadata": {},
   "outputs": [],
   "source": [
    "f1 = lambda o,p=0: (o*2)+p\n",
    "f2 = lambda o,p=1: (o+1)/p\n",
    "test_eq(f2(f1(3)), compose(f1,f2)(3))\n",
    "test_eq(f2(f1(3,p=3),p=3), compose(f1,f2)(3,p=3))\n",
    "test_eq(f2(f1(3,  3),  3), compose(f1,f2)(3,  3))"
   ]
  },
  {
   "cell_type": "markdown",
   "metadata": {},
   "source": [
    "## Reading a notebook"
   ]
  },
  {
   "cell_type": "markdown",
   "metadata": {
    "heading_collapsed": true
   },
   "source": [
    "### What's a notebook?"
   ]
  },
  {
   "cell_type": "markdown",
   "metadata": {
    "hidden": true
   },
   "source": [
    "A jupyter notebook is a json file behind the scenes. We can just read it with the json module, which will return a nested dictionary of dictionaries/lists of dictionaries, but there are some small differences between reading the json and using the tools from `nbformat` so we'll use this one."
   ]
  },
  {
   "cell_type": "code",
   "execution_count": 7,
   "metadata": {
    "hidden": true
   },
   "outputs": [],
   "source": [
    "#export\n",
    "def read_nb(fname):\n",
    "    \"Read the notebook in `fname`.\"\n",
    "    with open(Path(fname),'r', encoding='utf8') as f: return nbformat.reads(f.read(), as_version=4)"
   ]
  },
  {
   "cell_type": "markdown",
   "metadata": {
    "hidden": true
   },
   "source": [
    "`fname` can be a string or a pathlib object."
   ]
  },
  {
   "cell_type": "code",
   "execution_count": 8,
   "metadata": {
    "hidden": true
   },
   "outputs": [],
   "source": [
    "test_nb = read_nb('00_export.ipynb')"
   ]
  },
  {
   "cell_type": "markdown",
   "metadata": {
    "hidden": true
   },
   "source": [
    "The root has four keys: `cells` contains the cells of the notebook, `metadata` some stuff around the version of python used to execute the notebook, `nbformat` and `nbformat_minor` the version of nbformat. "
   ]
  },
  {
   "cell_type": "code",
   "execution_count": 9,
   "metadata": {
    "hidden": true
   },
   "outputs": [
    {
     "data": {
      "text/plain": [
       "dict_keys(['cells', 'metadata', 'nbformat', 'nbformat_minor'])"
      ]
     },
     "execution_count": 9,
     "metadata": {},
     "output_type": "execute_result"
    }
   ],
   "source": [
    "test_nb.keys()"
   ]
  },
  {
   "cell_type": "code",
   "execution_count": 10,
   "metadata": {
    "hidden": true
   },
   "outputs": [
    {
     "data": {
      "text/plain": [
       "{'kernelspec': {'display_name': 'Python 3',\n",
       "  'language': 'python',\n",
       "  'name': 'python3'},\n",
       " 'language_info': {'codemirror_mode': {'name': 'ipython', 'version': 3},\n",
       "  'file_extension': '.py',\n",
       "  'mimetype': 'text/x-python',\n",
       "  'name': 'python',\n",
       "  'nbconvert_exporter': 'python',\n",
       "  'pygments_lexer': 'ipython3',\n",
       "  'version': '3.7.4'}}"
      ]
     },
     "execution_count": 10,
     "metadata": {},
     "output_type": "execute_result"
    }
   ],
   "source": [
    "test_nb['metadata']"
   ]
  },
  {
   "cell_type": "code",
   "execution_count": 11,
   "metadata": {
    "hidden": true
   },
   "outputs": [
    {
     "data": {
      "text/plain": [
       "'4.4'"
      ]
     },
     "execution_count": 11,
     "metadata": {},
     "output_type": "execute_result"
    }
   ],
   "source": [
    "f\"{test_nb['nbformat']}.{test_nb['nbformat_minor']}\""
   ]
  },
  {
   "cell_type": "markdown",
   "metadata": {
    "hidden": true
   },
   "source": [
    "The cells key then contains a list of cells. Each one is a new dictionary that contains entries like the type (code or markdown), the source (what is written in the cell) and the output (for code cells)."
   ]
  },
  {
   "cell_type": "code",
   "execution_count": 12,
   "metadata": {
    "hidden": true
   },
   "outputs": [
    {
     "data": {
      "text/plain": [
       "{'cell_type': 'code',\n",
       " 'execution_count': 1,\n",
       " 'metadata': {'hide_input': False},\n",
       " 'outputs': [],\n",
       " 'source': '# export\\nfrom nbdev.imports import *'}"
      ]
     },
     "execution_count": 12,
     "metadata": {},
     "output_type": "execute_result"
    }
   ],
   "source": [
    "test_nb['cells'][0]"
   ]
  },
  {
   "cell_type": "markdown",
   "metadata": {
    "heading_collapsed": true
   },
   "source": [
    "### Finding patterns"
   ]
  },
  {
   "cell_type": "code",
   "execution_count": 13,
   "metadata": {
    "hidden": true
   },
   "outputs": [],
   "source": [
    "# export\n",
    "def check_re(cell, pat, code_only=True):\n",
    "    \"Check if `cell` contains a line with regex `pat`\"\n",
    "    if code_only and cell['cell_type'] != 'code': return\n",
    "    if isinstance(pat, str): pat = re.compile(pat, re.IGNORECASE | re.MULTILINE)\n",
    "    return pat.search(cell['source'])"
   ]
  },
  {
   "cell_type": "markdown",
   "metadata": {
    "hidden": true
   },
   "source": [
    "`pat` can be a string or a compiled regex, if `code_only=True`, ignores markdown cells."
   ]
  },
  {
   "cell_type": "code",
   "execution_count": 14,
   "metadata": {
    "hidden": true
   },
   "outputs": [],
   "source": [
    "cell = test_nb['cells'][0].copy()\n",
    "assert check_re(cell, '# export') is not None\n",
    "assert check_re(cell, re.compile('# export')) is not None\n",
    "assert check_re(cell, '# bla') is None\n",
    "cell['cell_type'] = 'markdown'\n",
    "assert check_re(cell, '# export') is None\n",
    "assert check_re(cell, '# export', code_only=False) is not None"
   ]
  },
  {
   "cell_type": "code",
   "execution_count": 15,
   "metadata": {
    "hidden": true
   },
   "outputs": [],
   "source": [
    "# export\n",
    "_re_blank_export = re.compile(r\"\"\"\n",
    "# Matches any line with #export or #exports without any module name:\n",
    "^         # beginning of line (since re.MULTILINE is passed)\n",
    "\\s*       # any number of whitespace\n",
    "\\#\\s*     # # then any number of whitespace\n",
    "exports?  # export or exports\n",
    "\\s*       # any number of whitespace\n",
    "$         # end of line (since re.MULTILINE is passed)\n",
    "\"\"\", re.IGNORECASE | re.MULTILINE | re.VERBOSE)"
   ]
  },
  {
   "cell_type": "code",
   "execution_count": 16,
   "metadata": {
    "hidden": true
   },
   "outputs": [],
   "source": [
    "# export\n",
    "_re_mod_export = re.compile(r\"\"\"\n",
    "# Matches any line with #export or #exports with a module name and catches it in group 1:\n",
    "^         # beginning of line (since re.MULTILINE is passed)\n",
    "\\s*       # any number of whitespace\n",
    "\\#\\s*     # # then any number of whitespace\n",
    "exports?  # export or exports\n",
    "\\s*       # any number of whitespace\n",
    "(\\S+)     # catch a group with any non-whitespace chars\n",
    "\\s*       # any number of whitespace\n",
    "$         # end of line (since re.MULTILINE is passed)\n",
    "\"\"\", re.IGNORECASE | re.MULTILINE | re.VERBOSE)"
   ]
  },
  {
   "cell_type": "code",
   "execution_count": 17,
   "metadata": {
    "hidden": true
   },
   "outputs": [],
   "source": [
    "# export\n",
    "def is_export(cell, default):\n",
    "    \"Check if `cell` is to be exported and returns the name of the module.\"\n",
    "    if check_re(cell, _re_blank_export):\n",
    "        if default is None:\n",
    "            print(f\"This cell doesn't have an export destination and was ignored:\\n{cell['source'][1]}\")\n",
    "        return default\n",
    "    tst = check_re(cell, _re_mod_export)\n",
    "    return os.path.sep.join(tst.groups()[0].split('.')) if tst else None"
   ]
  },
  {
   "cell_type": "markdown",
   "metadata": {
    "hidden": true
   },
   "source": [
    "The cells to export are marked with an `#export` or `#exports` code, potentially with a module name where we want it exported. The default is given in a cell of the form `#default_exp bla` inside the notebook (usually at the top), though in this function, it needs the be passed (the final script will read the whole notebook to find it)."
   ]
  },
  {
   "cell_type": "code",
   "execution_count": 18,
   "metadata": {
    "hidden": true
   },
   "outputs": [],
   "source": [
    "cell = test_nb['cells'][0].copy()\n",
    "test_eq(is_export(cell, 'export'), 'export')\n",
    "cell['source'] = \"# exports\" \n",
    "test_eq(is_export(cell, 'export'), 'export')\n",
    "cell['source'] = \"# export mod\" \n",
    "test_eq(is_export(cell, 'export'), 'mod')\n",
    "cell['source'] = \"# export mod.file\" \n",
    "test_eq(is_export(cell, 'export'), 'mod/file')\n",
    "cell['source'] = \"# expt mod.file\"\n",
    "assert is_export(cell, 'export') is None"
   ]
  },
  {
   "cell_type": "code",
   "execution_count": 19,
   "metadata": {
    "hidden": true
   },
   "outputs": [],
   "source": [
    "# export\n",
    "_re_default_exp = re.compile(r\"\"\"\n",
    "# Matches any line with #default_exp with a module name and catches it in group 1:\n",
    "^            # beginning of line (since re.MULTILINE is passed)\n",
    "\\s*          # any number of whitespace\n",
    "\\#\\s*        # # then any number of whitespace\n",
    "default_exp  # export or exports\n",
    "\\s*          # any number of whitespace\n",
    "(\\S+)        # catch a group with any non-whitespace chars\n",
    "\\s*          # any number of whitespace\n",
    "$            # end of line (since re.MULTILINE is passed)\n",
    "\"\"\", re.IGNORECASE | re.MULTILINE | re.VERBOSE)"
   ]
  },
  {
   "cell_type": "code",
   "execution_count": 20,
   "metadata": {
    "hidden": true
   },
   "outputs": [],
   "source": [
    "# export\n",
    "def find_default_export(cells):\n",
    "    \"Find in `cells` the default export module.\"\n",
    "    for cell in cells:\n",
    "        tst = check_re(cell, _re_default_exp)\n",
    "        if tst: return tst.groups()[0]"
   ]
  },
  {
   "cell_type": "markdown",
   "metadata": {
    "hidden": true
   },
   "source": [
    "Stops at the first cell containing a `#default_exp` code and return the value behind. Returns `None` if there are no cell with that code."
   ]
  },
  {
   "cell_type": "code",
   "execution_count": 21,
   "metadata": {
    "hidden": true
   },
   "outputs": [],
   "source": [
    "test_eq(find_default_export(test_nb['cells']), 'export')\n",
    "assert find_default_export(test_nb['cells'][2:]) is None"
   ]
  },
  {
   "cell_type": "markdown",
   "metadata": {
    "heading_collapsed": true
   },
   "source": [
    "### Exporting notebooks"
   ]
  },
  {
   "cell_type": "markdown",
   "metadata": {
    "hidden": true
   },
   "source": [
    "We're now ready to export notebooks!"
   ]
  },
  {
   "cell_type": "code",
   "execution_count": 22,
   "metadata": {
    "hidden": true
   },
   "outputs": [],
   "source": [
    "# export\n",
    "def _create_mod_file(fname, nb_path):\n",
    "    \"Create a module file for `fname`.\"\n",
    "    fname.parent.mkdir(parents=True, exist_ok=True)\n",
    "    with open(fname, 'w') as f:\n",
    "        f.write(f\"#AUTOGENERATED! DO NOT EDIT! File to edit: dev/{nb_path.name} (unless otherwise specified).\")\n",
    "        f.write('\\n\\n__all__ = []')"
   ]
  },
  {
   "cell_type": "code",
   "execution_count": 23,
   "metadata": {
    "hidden": true
   },
   "outputs": [],
   "source": [
    "#export\n",
    "_re_patch_func = re.compile(r\"\"\"\n",
    "# Catches any function decorated with @patch, its name in group 1 and the patched class in group 2\n",
    "@patch         # At any place in the cell, something that begins with @patch\n",
    "\\s*def         # Any number of whitespace (including a new line probably) followed by def\n",
    "\\s+            # One whitespace or more\n",
    "([^\\(\\s]*)     # Catch a group composed of anything but whitespace or an opening parenthesis (name of the function)\n",
    "\\s*\\(          # Any number of whitespace followed by an opening parenthesis\n",
    "[^:]*          # Any number of character different of : (the name of the first arg that is type-annotated)\n",
    ":\\s*           # A column followed by any number of whitespace\n",
    "(?:            # Non-catching group with either\n",
    "([^,\\s\\(\\)]*)  #    a group composed of anything but a comma, a parenthesis or whitespace (name of the class)\n",
    "|              #  or\n",
    "(\\([^\\)]*\\)))  #    a group composed of something between parenthesis (tuple of classes)\n",
    "\\s*            # Any number of whitespace\n",
    "(?:,|\\))       # Non-catching group with either a comma or a closing parenthesis\n",
    "\"\"\", re.VERBOSE)"
   ]
  },
  {
   "cell_type": "code",
   "execution_count": 24,
   "metadata": {
    "hidden": true
   },
   "outputs": [],
   "source": [
    "#hide\n",
    "tst = _re_patch_func.search(\"\"\"\n",
    "@patch\n",
    "def func(obj:Class):\"\"\")\n",
    "test_eq(tst.groups(), (\"func\", \"Class\", None))\n",
    "tst = _re_patch_func.search(\"\"\"\n",
    "@patch\n",
    "def func (obj:Class, a)\"\"\")\n",
    "test_eq(tst.groups(), (\"func\", \"Class\", None))\n",
    "tst = _re_patch_func.search(\"\"\"\n",
    "@patch\n",
    "def func (obj:(Class1, Class2), a)\"\"\")\n",
    "test_eq(tst.groups(), (\"func\", None, \"(Class1, Class2)\"))"
   ]
  },
  {
   "cell_type": "code",
   "execution_count": 25,
   "metadata": {
    "hidden": true
   },
   "outputs": [],
   "source": [
    "#export\n",
    "_re_typedispatch_func = re.compile(r\"\"\"\n",
    "# Catches any function decorated with @typedispatch\n",
    "(@typedispatch  # At any place in the cell, catch a group with something that begins with @patch\n",
    "\\s*def          # Any number of whitespace (including a new line probably) followed by def\n",
    "\\s+             # One whitespace or more\n",
    "[^\\(]*          # Anything but whitespace or an opening parenthesis (name of the function)\n",
    "\\s*\\(           # Any number of whitespace followed by an opening parenthesis\n",
    "[^\\)]*          # Any number of character different of )\n",
    "\\)\\s*:)         # A closing parenthesis followed by whitespace and :\n",
    "\"\"\", re.VERBOSE)"
   ]
  },
  {
   "cell_type": "code",
   "execution_count": 26,
   "metadata": {
    "hidden": true
   },
   "outputs": [],
   "source": [
    "#hide\n",
    "assert _re_typedispatch_func.search(\"@typedispatch\\ndef func(a, b):\").groups() == ('@typedispatch\\ndef func(a, b):',)"
   ]
  },
  {
   "cell_type": "code",
   "execution_count": 27,
   "metadata": {
    "hidden": true
   },
   "outputs": [],
   "source": [
    "#export\n",
    "_re_class_func_def = re.compile(r\"\"\"\n",
    "# Catches any 0-indented function or class definition with its name in group 1\n",
    "^              # Beginning of a line (since re.MULTILINE is passed)\n",
    "(?:def|class)  # Non-catching group for def or class\n",
    "\\s+            # One whitespace or more\n",
    "([^\\(\\s]*)     # Catching group with any character except an opening parenthesis or a whitespace (name)\n",
    "\\s*            # Any number of whitespace\n",
    "(?:\\(|:)       # Non-catching group with either an opening parenthesis or a : (classes don't need ())\n",
    "\"\"\", re.MULTILINE | re.VERBOSE)"
   ]
  },
  {
   "cell_type": "code",
   "execution_count": 28,
   "metadata": {
    "hidden": true
   },
   "outputs": [],
   "source": [
    "#hide\n",
    "test_eq(_re_class_func_def.search(\"class Class:\").groups(), ('Class',))\n",
    "test_eq(_re_class_func_def.search(\"def func(a, b):\").groups(), ('func',))"
   ]
  },
  {
   "cell_type": "code",
   "execution_count": 29,
   "metadata": {
    "hidden": true
   },
   "outputs": [],
   "source": [
    "#export\n",
    "_re_obj_def = re.compile(r\"\"\"\n",
    "# Catches any 0-indented object definition (bla = thing) with its name in group 1\n",
    "^          # Beginning of a line (since re.MULTILINE is passed)\n",
    "([^=\\s]*)  # Catching group with any character except a whitespace or an equal sign\n",
    "\\s*=       # Any number of whitespace followed by an =\n",
    "\"\"\", re.MULTILINE | re.VERBOSE)"
   ]
  },
  {
   "cell_type": "code",
   "execution_count": 30,
   "metadata": {
    "hidden": true
   },
   "outputs": [],
   "source": [
    "#hide\n",
    "test_eq(_re_obj_def.search(\"a = 1\").groups(), ('a',))\n",
    "test_eq(_re_obj_def.search(\"a=1\").groups(), ('a',))"
   ]
  },
  {
   "cell_type": "code",
   "execution_count": 31,
   "metadata": {
    "hidden": true
   },
   "outputs": [],
   "source": [
    "# export\n",
    "def _not_private(n):\n",
    "    for t in n.split('.'):\n",
    "        if (t.startswith('_') and not t.startswith('__')) or t.startswith('@'): return False\n",
    "    return '\\\\' not in t and '^' not in t and '[' not in t\n",
    "\n",
    "def export_names(code, func_only=False):\n",
    "    \"Find the names of the objects, functions or classes defined in `code` that are exported.\"\n",
    "    #Format monkey-patches with @patch\n",
    "    def _f(gps):\n",
    "        nm, cls, t = gps.groups()\n",
    "        if cls is not None: return f\"def {cls}.{nm}():\"\n",
    "        return '\\n'.join([f\"def {c}.{nm}():\" for c in re.split(', *', t[1:-1])])\n",
    "\n",
    "    code = _re_typedispatch_func.sub('', code)\n",
    "    code = _re_patch_func.sub(_f, code)\n",
    "    names = _re_class_func_def.findall(code)\n",
    "    if not func_only: names += _re_obj_def.findall(code)\n",
    "    return [n for n in names if _not_private(n)]"
   ]
  },
  {
   "cell_type": "markdown",
   "metadata": {
    "hidden": true
   },
   "source": [
    "This function only picks the zero-indented objects, functions or classes (we don't want the class methods for instance) and excludes private names (that begin with `_`). It only returns func and class names when `func_only=True`."
   ]
  },
  {
   "cell_type": "code",
   "execution_count": 32,
   "metadata": {
    "hidden": true
   },
   "outputs": [],
   "source": [
    "test_eq(export_names(\"def my_func(x):\\n  pass\\nclass MyClass():\"), [\"my_func\", \"MyClass\"])\n",
    "\n",
    "#Indented funcs are ignored (funcs inside a class)\n",
    "test_eq(export_names(\"  def my_func(x):\\n  pass\\nclass MyClass():\"), [\"MyClass\"])\n",
    "\n",
    "#Private funcs are ignored, dunder are not\n",
    "test_eq(export_names(\"def _my_func():\\n  pass\\nclass MyClass():\"), [\"MyClass\"])\n",
    "test_eq(export_names(\"__version__ = 1:\\n  pass\\nclass MyClass():\"), [\"MyClass\", \"__version__\"])\n",
    "\n",
    "#trailing spaces\n",
    "test_eq(export_names(\"def my_func ():\\n  pass\\nclass MyClass():\"), [\"my_func\", \"MyClass\"])\n",
    "\n",
    "#class without parenthesis\n",
    "test_eq(export_names(\"def my_func ():\\n  pass\\nclass MyClass:\"), [\"my_func\", \"MyClass\"])\n",
    "\n",
    "#object and funcs\n",
    "test_eq(export_names(\"def my_func ():\\n  pass\\ndefault_bla=[]:\"), [\"my_func\", \"default_bla\"])\n",
    "test_eq(export_names(\"def my_func ():\\n  pass\\ndefault_bla=[]:\", func_only=True), [\"my_func\"])\n",
    "\n",
    "#Private objects are ignored\n",
    "test_eq(export_names(\"def my_func ():\\n  pass\\n_default_bla = []:\"), [\"my_func\"])\n",
    "\n",
    "#Objects with dots are privates if one part is private\n",
    "test_eq(export_names(\"def my_func ():\\n  pass\\ndefault.bla = []:\"), [\"my_func\", \"default.bla\"])\n",
    "test_eq(export_names(\"def my_func ():\\n  pass\\ndefault._bla = []:\"), [\"my_func\"])\n",
    "\n",
    "#Monkey-path with @patch are properly renamed\n",
    "test_eq(export_names(\"@patch\\ndef my_func(x:Class):\\n  pass\"), [\"Class.my_func\"])\n",
    "test_eq(export_names(\"@patch\\ndef my_func(x:Class):\\n  pass\", func_only=True), [\"Class.my_func\"])\n",
    "test_eq(export_names(\"some code\\n@patch\\ndef my_func(x:Class, y):\\n  pass\"), [\"Class.my_func\"])\n",
    "test_eq(export_names(\"some code\\n@patch\\ndef my_func(x:(Class1,Class2), y):\\n  pass\"), [\"Class1.my_func\", \"Class2.my_func\"])\n",
    "\n",
    "#Check delegates\n",
    "test_eq(export_names(\"@delegates(keep=True)\\nclass someClass:\\n  pass\"), [\"someClass\"])\n",
    "\n",
    "#Typedispatch decorated functions shouldn't be added\n",
    "test_eq(export_names(\"@patch\\ndef my_func(x:Class):\\n  pass\\n@typedispatch\\ndef func(x: TensorImage): pass\"), [\"Class.my_func\"])"
   ]
  },
  {
   "cell_type": "code",
   "execution_count": 33,
   "metadata": {
    "hidden": true
   },
   "outputs": [],
   "source": [
    "#export\n",
    "_re_all_def   = re.compile(r\"\"\"\n",
    "# Catches a cell with defines \\_all\\_ = [\\*\\*] and get that \\*\\* in group 1\n",
    "^_all_   #  Beginning of line (since re.MULTILINE is passed)\n",
    "\\s*=\\s*  #  Any number of whitespace, =, any number of whitespace\n",
    "\\[       #  Opening [\n",
    "([^\\n\\]]*) #  Catching group with anything except a ] or newline\n",
    "\\]       #  Closing ]\n",
    "\"\"\", re.MULTILINE | re.VERBOSE)\n",
    "\n",
    "#Same with __all__\n",
    "_re__all__def = re.compile(r'^__all__\\s*=\\s*\\[([^\\]]*)\\]', re.MULTILINE)"
   ]
  },
  {
   "cell_type": "code",
   "execution_count": 34,
   "metadata": {
    "hidden": true
   },
   "outputs": [],
   "source": [
    "# export\n",
    "def extra_add(code):\n",
    "    \"Catch adds to `__all__` required by a cell with `_all_=`\"\n",
    "    if _re_all_def.search(code):\n",
    "        names = _re_all_def.search(code).groups()[0]\n",
    "        names = re.sub('\\s*,\\s*', ',', names)\n",
    "        names = names.replace('\"', \"'\")\n",
    "        code = _re_all_def.sub('', code)\n",
    "        code = re.sub(r'([^\\n]|^)\\n*$', r'\\1', code)\n",
    "        return names.split(','),code\n",
    "    return [],code"
   ]
  },
  {
   "cell_type": "code",
   "execution_count": 35,
   "metadata": {
    "hidden": true
   },
   "outputs": [],
   "source": [
    "test_eq(extra_add('_all_ = [\"func\", \"func1\", \"func2\"]'), ([\"'func'\", \"'func1'\", \"'func2'\"],''))\n",
    "test_eq(extra_add('_all_ = [\"func\",   \"func1\" , \"func2\"]'), ([\"'func'\", \"'func1'\", \"'func2'\"],''))\n",
    "test_eq(extra_add(\"_all_ = ['func','func1', 'func2']\\n\"), ([\"'func'\", \"'func1'\", \"'func2'\"],''))\n",
    "test_eq(extra_add('code\\n\\n_all_ = [\"func\", \"func1\", \"func2\"]'), ([\"'func'\", \"'func1'\", \"'func2'\"],'code'))"
   ]
  },
  {
   "cell_type": "code",
   "execution_count": 36,
   "metadata": {
    "hidden": true
   },
   "outputs": [],
   "source": [
    "#export\n",
    "def _add2add(fname, names, line_width=120):\n",
    "    if len(names) == 0: return\n",
    "    with open(fname, 'r', encoding='utf8') as f: text = f.read()\n",
    "    tw = TextWrapper(width=120, initial_indent='', subsequent_indent=' '*11, break_long_words=False)\n",
    "    re_all = _re__all__def.search(text)\n",
    "    start,end = re_all.start(),re_all.end()\n",
    "    text_all = tw.wrap(f\"{text[start:end-1]}{'' if text[end-2]=='[' else ', '}{', '.join(names)}]\")\n",
    "    with open(fname, 'w', encoding='utf8') as f: f.write(text[:start] + '\\n'.join(text_all) + text[end:])"
   ]
  },
  {
   "cell_type": "code",
   "execution_count": 37,
   "metadata": {
    "hidden": true
   },
   "outputs": [],
   "source": [
    "fname = 'test_add.txt'\n",
    "with open(fname, 'w', encoding='utf8') as f: f.write(\"Bla\\n__all__ = [my_file, MyClas]\\nBli\")\n",
    "_add2add(fname, ['new_function'])\n",
    "with open(fname, 'r', encoding='utf8') as f: \n",
    "    test_eq(f.read(), \"Bla\\n__all__ = [my_file, MyClas, new_function]\\nBli\")\n",
    "_add2add(fname, [f'new_function{i}' for i in range(10)])\n",
    "with open(fname, 'r', encoding='utf8') as f: \n",
    "    test_eq(f.read(), \"\"\"Bla\n",
    "__all__ = [my_file, MyClas, new_function, new_function0, new_function1, new_function2, new_function3, new_function4,\n",
    "           new_function5, new_function6, new_function7, new_function8, new_function9]\n",
    "Bli\"\"\")\n",
    "os.remove(fname)"
   ]
  },
  {
   "cell_type": "code",
   "execution_count": 38,
   "metadata": {
    "hidden": true
   },
   "outputs": [],
   "source": [
    "# export\n",
    "def _relative_import(name, fname):\n",
    "    mods = name.split('.')\n",
    "    splits = str(fname).split(os.path.sep)\n",
    "    if mods[0] not in splits: return name\n",
    "    i=len(splits)-1\n",
    "    while i>0 and splits[i] != mods[0]: i-=1\n",
    "    splits = splits[i:]\n",
    "    while len(mods)>0 and splits[0] == mods[0]: splits,mods = splits[1:],mods[1:]\n",
    "    return '.' * (len(splits)) + '.'.join(mods)"
   ]
  },
  {
   "cell_type": "code",
   "execution_count": 39,
   "metadata": {
    "hidden": true
   },
   "outputs": [],
   "source": [
    "test_eq(_relative_import('nbdev.core', Path.cwd()/'nbdev'/'data.py'), '.core')\n",
    "test_eq(_relative_import('nbdev.core', Path('nbdev')/'vision'/'data.py'), '..core')\n",
    "test_eq(_relative_import('nbdev.vision.transform', Path('nbdev')/'vision'/'data.py'), '.transform')\n",
    "test_eq(_relative_import('nbdev.notebook.core', Path('nbdev')/'data'/'external.py'), '..notebook.core')\n",
    "test_eq(_relative_import('nbdev.vision', Path('nbdev')/'vision'/'learner.py'), '.')"
   ]
  },
  {
   "cell_type": "code",
   "execution_count": 40,
   "metadata": {
    "hidden": true
   },
   "outputs": [],
   "source": [
    "#export\n",
    "#Catches any from nbdev.bla import something and catches nbdev.bla in group 1, the imported thing(s) in group 2.\n",
    "_re_import = re.compile(r'^(\\s*)from (' + Config().lib_name + '.\\S*) import (.*)$')"
   ]
  },
  {
   "cell_type": "code",
   "execution_count": 41,
   "metadata": {
    "hidden": true
   },
   "outputs": [],
   "source": [
    "# export\n",
    "def _deal_import(code_lines, fname):\n",
    "    def _replace(m):\n",
    "        sp,mod,obj = m.groups()\n",
    "        return f\"{sp}from {_relative_import(mod, fname)} import {obj}\"\n",
    "    return [_re_import.sub(_replace,line) for line in code_lines]"
   ]
  },
  {
   "cell_type": "code",
   "execution_count": 42,
   "metadata": {
    "hidden": true
   },
   "outputs": [],
   "source": [
    "#hide\n",
    "lines = [\"from nbdev.core import *\", \"nothing to see\", \"  from nbdev.vision import bla1, bla2\", \"from nbdev.vision import models\"]\n",
    "test_eq(_deal_import(lines, Path.cwd()/'nbdev'/'data.py'), [\n",
    "    \"from .core import *\", \"nothing to see\", \"  from .vision import bla1, bla2\", \"from .vision import models\"\n",
    "])"
   ]
  },
  {
   "cell_type": "code",
   "execution_count": 43,
   "metadata": {
    "hidden": true
   },
   "outputs": [],
   "source": [
    "#export\n",
    "def reset_nbdev_module():\n",
    "    fname = Config().lib_path/'_nbdev.py'\n",
    "    fname.parent.mkdir(parents=True, exist_ok=True)\n",
    "    with open(fname, 'w') as f:\n",
    "        f.write(f\"#AUTOGENERATED BY NBDEV! DO NOT EDIT!\")\n",
    "        f.write('\\n\\n__all__ = [\"index\", \"modules\"]')\n",
    "        f.write('\\n\\nindex = {}')\n",
    "        f.write('\\n\\nmodules = []')"
   ]
  },
  {
   "cell_type": "code",
   "execution_count": 44,
   "metadata": {
    "hidden": true
   },
   "outputs": [],
   "source": [
    "# export\n",
    "def get_nbdev_module():\n",
    "    try: \n",
    "        mod = importlib.import_module(f'{Config().lib_name}._nbdev')\n",
    "        mod = importlib.reload(mod)\n",
    "        return mod\n",
    "    except:\n",
    "        print(\"Run `reset_nbdev_module` to create an empty skeletton.\")"
   ]
  },
  {
   "cell_type": "code",
   "execution_count": 45,
   "metadata": {
    "hidden": true
   },
   "outputs": [],
   "source": [
    "#export\n",
    "_re_index_idx = re.compile(r'index\\s*=\\s*{[^}]*}')\n",
    "_re_index_mod = re.compile(r'modules\\s*=\\s*\\[[^\\]]*\\]')"
   ]
  },
  {
   "cell_type": "code",
   "execution_count": 46,
   "metadata": {
    "hidden": true
   },
   "outputs": [],
   "source": [
    "#export\n",
    "def save_nbdev_module(mod):\n",
    "    fname = Config().lib_path/'_nbdev.py'\n",
    "    with open(fname, 'r') as f: code = f.read()\n",
    "    t = ',\\n         '.join([f'\"{k}\": \"{v}\"' for k,v in mod.index.items()])\n",
    "    code = _re_index_idx.sub(\"index = {\"+ t +\"}\", code)\n",
    "    t = ',\\n           '.join([f'\"{f}\"' for f in mod.modules])\n",
    "    code = _re_index_mod.sub(f\"modules = [{t}]\", code)\n",
    "    with open(fname, 'w') as f: f.write(code)"
   ]
  },
  {
   "cell_type": "code",
   "execution_count": 47,
   "metadata": {
    "hidden": true
   },
   "outputs": [],
   "source": [
    "#hide\n",
    "ind,ind_bak = Config().lib_path/'_nbdev.py',Config().lib_path/'_nbdev.bak'\n",
    "if ind.exists(): shutil.move(ind, ind_bak)\n",
    "try:\n",
    "    reset_nbdev_module()\n",
    "    mod = get_nbdev_module()\n",
    "    test_eq(mod.index, {})\n",
    "    test_eq(mod.modules, [])\n",
    "\n",
    "    mod.index = {'foo':'bar'}\n",
    "    mod.modules.append('lala.bla')\n",
    "    save_nbdev_module(mod)\n",
    "\n",
    "    mod = get_nbdev_module()\n",
    "    test_eq(mod.index, {'foo':'bar'})\n",
    "    test_eq(mod.modules, ['lala.bla'])\n",
    "finally:\n",
    "    if ind_bak.exists(): shutil.move(ind_bak, ind)"
   ]
  },
  {
   "cell_type": "code",
   "execution_count": 48,
   "metadata": {
    "hidden": true
   },
   "outputs": [],
   "source": [
    "#export\n",
    "def _notebook2script(fname, silent=False, to_dict=None):\n",
    "    \"Finds cells starting with `#export` and puts them into a new module\"\n",
    "    if os.environ.get('IN_TEST',0): return  # don't export if running tests\n",
    "    fname = Path(fname)\n",
    "    nb = read_nb(fname)\n",
    "    default = find_default_export(nb['cells'])\n",
    "    if default is not None:\n",
    "        default = os.path.sep.join(default.split('.'))\n",
    "        if to_dict is None: _create_mod_file(Config().lib_path/f'{default}.py', fname)\n",
    "    mod = get_nbdev_module()\n",
    "    exports = [is_export(c, default) for c in nb['cells']]\n",
    "    cells = [(i,c,e) for i,(c,e) in enumerate(zip(nb['cells'],exports)) if e is not None]\n",
    "    for i,c,e in cells:\n",
    "        fname_out = Config().lib_path/f'{e}.py'\n",
    "        orig = ('#C' if e==default else f'#Comes from {fname.name}, c') + 'ell\\n'\n",
    "        code = '\\n\\n' + orig + '\\n'.join(_deal_import(c['source'].split('\\n')[1:], fname_out))\n",
    "        # remove trailing spaces\n",
    "        names = export_names(code)\n",
    "        extra,code = extra_add(code)\n",
    "        if to_dict is None: _add2add(fname_out, [f\"'{f}'\" for f in names if '.' not in f and len(f) > 0] + extra)\n",
    "        mod.index.update({f: fname.name for f in names})\n",
    "        code = re.sub(r' +$', '', code, flags=re.MULTILINE)\n",
    "        if code != '\\n\\n' + orig[:-1]:\n",
    "            if to_dict is not None: to_dict[fname_out].append((i, fname, code))\n",
    "            else:\n",
    "                with open(fname_out, 'a', encoding='utf8') as f: f.write(code)\n",
    "        if f'{e}.py' not in mod.modules: mod.modules.append(f'{e}.py')\n",
    "    save_nbdev_module(mod)\n",
    "    \n",
    "    if not silent: print(f\"Converted {fname.name}.\")\n",
    "    return to_dict"
   ]
  },
  {
   "cell_type": "code",
   "execution_count": 49,
   "metadata": {
    "hidden": true
   },
   "outputs": [
    {
     "name": "stdout",
     "output_type": "stream",
     "text": [
      "Converted 00_export.ipynb.\n"
     ]
    }
   ],
   "source": [
    "_notebook2script('00_export.ipynb')"
   ]
  },
  {
   "cell_type": "code",
   "execution_count": 50,
   "metadata": {
    "hidden": true
   },
   "outputs": [],
   "source": [
    "#export \n",
    "def notebook2script(fname=None, silent=False, to_dict=False):\n",
    "    \"Convert `fname` or all the notebook satisfying `all_fs`.\"\n",
    "    # initial checks\n",
    "    if os.environ.get('IN_TEST',0): return  # don't export if running tests\n",
    "    if fname is None: \n",
    "        reset_nbdev_module()\n",
    "        files = [f for f in Config().nbs_path.glob('*.ipynb') if not f.name.startswith('_')]\n",
    "    else: files = glob.glob(fname)\n",
    "    d = collections.defaultdict(list) if to_dict else None\n",
    "    for f in sorted(files): d = _notebook2script(f, silent=silent, to_dict=d)\n",
    "    if to_dict: return d"
   ]
  },
  {
   "cell_type": "markdown",
   "metadata": {
    "hidden": true
   },
   "source": [
    "Finds cells starting with `#export` and puts them into the appropriate module.\n",
    "* `fname`: the filename of one notebook to convert or a glob expression, will default to all notebooks that don't being with an _\n",
    "\n",
    "Examples of use in console:\n",
    "```\n",
    "notebook2script                                 # Parse all files\n",
    "notebook2script --fname 00_export.ipynb         # Parse 00_export.ipynb\n",
    "notebook2script --fname=nb*                     # Parse all files starting with nb*\n",
    "```"
   ]
  },
  {
   "cell_type": "code",
   "execution_count": 51,
   "metadata": {
    "hidden": true
   },
   "outputs": [],
   "source": [
    "#export\n",
    "class DocsTestClass:\n",
    "    def test(): pass"
   ]
  },
  {
   "cell_type": "markdown",
   "metadata": {},
   "source": [
    "## Export"
   ]
  },
  {
   "cell_type": "code",
   "execution_count": 52,
   "metadata": {},
   "outputs": [
    {
     "name": "stdout",
     "output_type": "stream",
     "text": [
      "Converted 00_export.ipynb.\n",
      "Converted 01_sync.ipynb.\n",
      "Converted 02_showdoc.ipynb.\n",
      "Converted 03_export2html.ipynb.\n",
      "Converted 04_test.ipynb.\n",
      "Converted 09_index.ipynb.\n"
     ]
    }
   ],
   "source": [
    "#hide\n",
    "notebook2script()"
   ]
  },
  {
   "cell_type": "code",
   "execution_count": null,
   "metadata": {},
   "outputs": [],
   "source": []
  }
 ],
 "metadata": {
  "kernelspec": {
   "display_name": "Python 3",
   "language": "python",
   "name": "python3"
  },
  "language_info": {
   "codemirror_mode": {
    "name": "ipython",
    "version": 3
   },
   "file_extension": ".py",
   "mimetype": "text/x-python",
   "name": "python",
   "nbconvert_exporter": "python",
   "pygments_lexer": "ipython3",
   "version": "3.7.4"
  }
 },
 "nbformat": 4,
 "nbformat_minor": 4
}
