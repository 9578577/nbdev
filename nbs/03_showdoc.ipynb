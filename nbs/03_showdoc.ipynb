{
 "cells": [
  {
   "cell_type": "code",
   "execution_count": 4,
   "metadata": {
    "hide_input": false
   },
   "outputs": [],
   "source": [
    "#hide\n",
    "#default_exp showdoc\n",
    "#default_cls_lvl 3"
   ]
  },
  {
   "cell_type": "code",
   "execution_count": 13,
   "metadata": {},
   "outputs": [],
   "source": [
    "#export\n",
    "from nbdev.imports import *\n",
    "from nbdev.read import *\n",
    "from nbdev.export import *\n",
    "from nbdev.doclinks import *\n",
    "from fastcore.utils import *\n",
    "\n",
    "import pkg_resources,importlib\n",
    "\n",
    "if IN_NOTEBOOK:\n",
    "    from IPython.display import Markdown,display\n",
    "    from IPython.core import page\n",
    "else: Markdown,display,page = None,None,None"
   ]
  },
  {
   "cell_type": "code",
   "execution_count": 6,
   "metadata": {},
   "outputs": [],
   "source": [
    "from fastcore.test import *"
   ]
  },
  {
   "cell_type": "markdown",
   "metadata": {},
   "source": [
    "# Show doc\n",
    "\n",
    "> Functions to show the doc cells in notebooks"
   ]
  },
  {
   "cell_type": "code",
   "execution_count": 16,
   "metadata": {},
   "outputs": [],
   "source": [
    "#export\n",
    "class NbdevLookup:\n",
    "    def __init__(self, d, strip_all=None, strip_mods=None):\n",
    "        settings = d['settings']\n",
    "        if strip_mods is None: strip_mods = settings.get('strip_mods','').split()\n",
    "        if strip_all  is None: strip_all  = settings.get('strip_all',settings.get('lib_name')).split()\n",
    "        strip_mods = L(strip_mods)\n",
    "        py_syms = merge(*d['syms'].values())\n",
    "        for m in strip_all:\n",
    "            _d = importlib.import_module(f\"{m}._nbdev\")._modidx.d\n",
    "            stripped = {remove_prefix(k,f\"{k_}.\"):v\n",
    "                        for k_,v_ in _d['syms'].items() for k,v in v_.items()}\n",
    "            py_syms = merge(stripped, py_syms)\n",
    "        for m in strip_mods:\n",
    "            stripped = {remove_prefix(k,f\"{m}.\"):v for k,v in d['syms'][m].items()}\n",
    "            py_syms = merge(stripped, py_syms)\n",
    "        self.syms = merge(py_syms, d['mods'])\n",
    "\n",
    "    def __call__(self, s):\n",
    "        \"URL for documentation for symbol `s`\"\n",
    "        return self.syms.get(s, None)"
   ]
  },
  {
   "cell_type": "code",
   "execution_count": 17,
   "metadata": {},
   "outputs": [],
   "source": [
    "from nbdev import _modidx"
   ]
  },
  {
   "cell_type": "code",
   "execution_count": 18,
   "metadata": {},
   "outputs": [],
   "source": [
    "c = NbdevLookup(_modidx.d, strip_all=[])\n",
    "assert c('nbdev.read.cell_header').startswith('http')\n",
    "assert not c('cell_header')\n",
    "assert not c('DocLinks')"
   ]
  },
  {
   "cell_type": "code",
   "execution_count": 19,
   "metadata": {},
   "outputs": [],
   "source": [
    "c = NbdevLookup(_modidx.d, strip_mods='nbdev.read', strip_all=[])\n",
    "assert c('cell_header').startswith('http')\n",
    "assert not c('DocLinks')"
   ]
  },
  {
   "cell_type": "code",
   "execution_count": 20,
   "metadata": {},
   "outputs": [],
   "source": [
    "c = NbdevLookup(_modidx.d)\n",
    "assert c('nbdev.read.cell_header').startswith('http')\n",
    "assert c('cell_header').startswith('http')\n",
    "assert c('DocLinks').startswith('http')"
   ]
  },
  {
   "cell_type": "code",
   "execution_count": 21,
   "metadata": {},
   "outputs": [],
   "source": [
    "from nbdev._nbdev import *\n",
    "assert nbdev_lookup('cell_header').startswith('http')\n",
    "assert pkg_resources.parse_version(version).major>1"
   ]
  },
  {
   "cell_type": "code",
   "execution_count": 22,
   "metadata": {},
   "outputs": [],
   "source": [
    "@functools.lru_cache\n",
    "class DocLookup:\n",
    "    def __init__(self):\n",
    "        self.pkgs = L(o.load()() for o in pkg_resources.iter_entry_points(group='nbdev'))\n",
    "    def __call__(self, k): return self.pkgs.map_first(Self.doc_link(k))"
   ]
  },
  {
   "cell_type": "markdown",
   "metadata": {},
   "source": [
    "## Backticks"
   ]
  },
  {
   "cell_type": "markdown",
   "metadata": {},
   "source": [
    "All the automatic documentation of functions and classes are generated with the `show_doc` function. It displays the name, arguments, docstring along with a link to the source code on GitHub."
   ]
  },
  {
   "cell_type": "code",
   "execution_count": 73,
   "metadata": {},
   "outputs": [],
   "source": [
    "md = \"\"\"This is a link to `numpy.array` and to `read_nb` and to `L` but not a link to `foobar`.\n",
    "And not a link to <code>dict2nb</code>.\n",
    "\n",
    "    This is not a link to `dict2nb`\n",
    "\n",
    "```\n",
    "This isn't a link to `dict2nb` either\n",
    "```\"\"\""
   ]
  },
  {
   "cell_type": "code",
   "execution_count": 74,
   "metadata": {},
   "outputs": [],
   "source": [
    "def _link_sym(m):\n",
    "    l = m.group(1)\n",
    "    s = DocLookup()(l)\n",
    "    if s is None: return l\n",
    "    return rf\"[{l}]({s})\""
   ]
  },
  {
   "cell_type": "code",
   "execution_count": 75,
   "metadata": {},
   "outputs": [],
   "source": [
    "_re_backticks = re.compile(r'`([^`\\s]+)`')\n",
    "def _link_line(l):\n",
    "    return _re_backticks.sub(_link_sym, l)"
   ]
  },
  {
   "cell_type": "code",
   "execution_count": 76,
   "metadata": {},
   "outputs": [
    {
     "name": "stdout",
     "output_type": "stream",
     "text": [
      "This is a link to [numpy.array](https://numpy.org/doc/reference/generated/numpy.array.html#numpy.array) and to read_nb and to L but not a link to foobar.\n",
      "And not a link to <code>dict2nb</code>.\n",
      "\n",
      "    This is not a link to `dict2nb`\n",
      "\n",
      "```\n",
      "This isn't a link to dict2nb either\n",
      "```\n"
     ]
    }
   ],
   "source": [
    "in_fence=False\n",
    "lines = md.splitlines()\n",
    "for i,l in enumerate(lines):\n",
    "    if l.startswith(\"```\"): in_fence=not in_fence\n",
    "    elif not l.startswith('    '): lines[i] = _link_line(l)\n",
    "\n",
    "print('\\n'.join(lines))"
   ]
  },
  {
   "cell_type": "markdown",
   "metadata": {},
   "source": [
    "## Export -"
   ]
  },
  {
   "cell_type": "code",
   "execution_count": 27,
   "metadata": {},
   "outputs": [],
   "source": [
    "from nbdev.doclinks import nbdev_build_lib\n",
    "nbdev_build_lib()"
   ]
  },
  {
   "cell_type": "code",
   "execution_count": null,
   "metadata": {},
   "outputs": [],
   "source": []
  }
 ],
 "metadata": {
  "jupytext": {
   "split_at_heading": true
  },
  "kernelspec": {
   "display_name": "Python 3",
   "language": "python",
   "name": "python3"
  },
  "language_info": {
   "codemirror_mode": {
    "name": "ipython",
    "version": 3
   },
   "file_extension": ".py",
   "mimetype": "text/x-python",
   "name": "python",
   "nbconvert_exporter": "python",
   "pygments_lexer": "ipython3",
   "version": "3.8.3"
  },
  "toc": {
   "base_numbering": 1,
   "nav_menu": {},
   "number_sections": false,
   "sideBar": true,
   "skip_h1_title": false,
   "title_cell": "Table of Contents",
   "title_sidebar": "Contents",
   "toc_cell": false,
   "toc_position": {},
   "toc_section_display": true,
   "toc_window_display": false
  }
 },
 "nbformat": 4,
 "nbformat_minor": 2
}
