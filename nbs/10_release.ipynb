{
 "cells": [
  {
   "cell_type": "code",
   "execution_count": null,
   "metadata": {},
   "outputs": [
    {
     "name": "stdout",
     "output_type": "stream",
     "text": [
      "Cells will be exported to nbdev.release,\n",
      "unless a different module is specified after an export flag: `%nbdev_export special.module`\n"
     ]
    }
   ],
   "source": [
    "#hide\n",
    "from nbdev import *\n",
    "%nbdev_default_export release"
   ]
  },
  {
   "cell_type": "markdown",
   "metadata": {},
   "source": [
    "# Create release notes\n",
    "\n",
    "> Release notes auto-generated from GitHub issues"
   ]
  },
  {
   "cell_type": "code",
   "execution_count": null,
   "metadata": {},
   "outputs": [],
   "source": [
    "#export\n",
    "from nbdev.imports import *\n",
    "from fastcore.all import *\n",
    "from nbdev.export import *\n",
    "from datetime import datetime\n",
    "from textwrap import fill\n",
    "import requests"
   ]
  },
  {
   "cell_type": "code",
   "execution_count": null,
   "metadata": {},
   "outputs": [],
   "source": [
    "#export\n",
    "GH_HOST = \"https://api.github.com\""
   ]
  },
  {
   "cell_type": "code",
   "execution_count": null,
   "metadata": {},
   "outputs": [],
   "source": [
    "#export\n",
    "def _issue_txt(issue):\n",
    "    res = f'- {issue[\"title\"].strip()} ([#{issue[\"number\"]}]({issue[\"url\"]}))\\n'\n",
    "    body = issue['body']\n",
    "    if not body: return res\n",
    "    return res + fill(body.strip(), initial_indent=\"  - \", subsequent_indent=\"    \") + \"\\n\"\n",
    "\n",
    "def _issues_txt(iss, label):\n",
    "    if not iss: return ''\n",
    "    res = f\"### {label}\\n\\n\"\n",
    "    return res + '\\n'.join(map(_issue_txt, iss))"
   ]
  },
  {
   "cell_type": "code",
   "execution_count": null,
   "metadata": {},
   "outputs": [],
   "source": [
    "#export\n",
    "class FastRelease:\n",
    "    def __init__(self, owner=None, repo=None, token=None, **groups):\n",
    "        \"Create CHANGELOG.md from GitHub issues\"\n",
    "        if not groups: groups = dict(breaking=\"Breaking Changes\", enhancement=\"New Features\", bug=\"Bugs Squashed\")\n",
    "        self.groups = groups\n",
    "        cfg = Config()\n",
    "        os.chdir(cfg.config_file.parent)\n",
    "        if not owner: owner = cfg.user\n",
    "        if not repo:  repo  = cfg.lib_name\n",
    "        if not token: token = Path('token').read_text().strip()\n",
    "        store_attr()\n",
    "        self.session = requests.Session()\n",
    "        self.session.headers['Authorization'] = f'token {token}'\n",
    "        self.repo_url = f\"{GH_HOST}/repos/{owner}/{repo}\"\n",
    "\n",
    "    def _tag_date(self, tag):\n",
    "        tag_url = f\"{self.repo_url}/git/ref/tags/{tag}\"\n",
    "        try: tag_d = self.session.get(tag_url).json()\n",
    "        except HTTPError: raise Exception(f\"Failed to find tag {tag}\")\n",
    "        commit_d = self.session.get(tag_d[\"object\"][\"url\"]).json()\n",
    "        self.commit_date = commit_d[\"committer\"][\"date\"].replace('Z', '+00:00')\n",
    "        return self.commit_date\n",
    "\n",
    "    def _issues(self, label):\n",
    "        return self.session.get(f\"{self.repo_url}/issues?state=closed&sort=created&filter=all&\"+\n",
    "                            f\"since={self.commit_date}&labels={label}\").json()\n",
    "    \n",
    "    def _issue_groups(self):\n",
    "        return parallel(self._issues, self.groups.keys(), progress=False).map(L)    \n",
    "    \n",
    "    def _latest_release(self):\n",
    "        rel_url = f\"{self.repo_url}/releases/latest\"\n",
    "        return self.session.get(rel_url).json()[\"tag_name\"]\n",
    "\n",
    "    def changelog(self, debug=False):\n",
    "        \"Create the CHANGELOG.md file, or return the proposed text if `debug` is `True`\"\n",
    "        fn = 'CHANGELOG.md'\n",
    "        shutil.copy(fn, fn+\".bak\")\n",
    "        txt = Path(fn).read_text()\n",
    "        marker = '<!-- do not remove -->\\n'\n",
    "        ver = self._latest_release()\n",
    "        self._tag_date(ver)\n",
    "        res = f\"## {ver}\\n\"\n",
    "        issues = self._issue_groups()\n",
    "        res += '\\n'.join(L(issues, self.groups.values()).zip().starmap(_issues_txt))\n",
    "        res = txt.replace(marker, marker+res)\n",
    "        if debug: return res\n",
    "        else: Path(fn).write_text(res)"
   ]
  },
  {
   "cell_type": "markdown",
   "metadata": {},
   "source": [
    "To create a markdown changelog, first create a `FastRelease` object, passing a mapping from GitHub labels to markdown titles. Put your github token in a file named `token` at the root of your repo."
   ]
  },
  {
   "cell_type": "code",
   "execution_count": null,
   "metadata": {},
   "outputs": [],
   "source": [
    "# rel = FastRelease(breaking=\"Breaking Changes\", enhancement=\"New Features\", bug=\"Bugs Squashed\")"
   ]
  },
  {
   "cell_type": "code",
   "execution_count": null,
   "metadata": {},
   "outputs": [
    {
     "data": {
      "text/markdown": [
       "<h4 id=\"FastRelease.changelog\" class=\"doc_header\"><code>FastRelease.changelog</code><a href=\"__main__.py#L36\" class=\"source_link\" style=\"float:right\">[source]</a></h4>\n",
       "\n",
       "> <code>FastRelease.changelog</code>(**`debug`**=*`False`*)\n",
       "\n",
       "Create the CHANGELOG.md file, or return the proposed text if `debug` is `True`"
      ],
      "text/plain": [
       "<IPython.core.display.Markdown object>"
      ]
     },
     "metadata": {},
     "output_type": "display_data"
    }
   ],
   "source": [
    "show_doc(FastRelease.changelog)"
   ]
  },
  {
   "cell_type": "code",
   "execution_count": null,
   "metadata": {},
   "outputs": [],
   "source": [
    "# print(rel.changelog(debug=True))"
   ]
  },
  {
   "cell_type": "markdown",
   "metadata": {},
   "source": [
    "## Export-"
   ]
  },
  {
   "cell_type": "code",
   "execution_count": null,
   "metadata": {},
   "outputs": [
    {
     "name": "stdout",
     "output_type": "stream",
     "text": [
      "Converted 00_export.ipynb.\n",
      "Converted 01_sync.ipynb.\n",
      "Converted 02_showdoc.ipynb.\n",
      "Converted 03_export2html.ipynb.\n",
      "Converted 04_test.ipynb.\n",
      "Converted 05_merge.ipynb.\n",
      "Converted 05a_conda.ipynb.\n",
      "Converted 06_cli.ipynb.\n",
      "Converted 07_clean.ipynb.\n",
      "Converted 10_release.ipynb.\n",
      "Converted 99_search.ipynb.\n",
      "Converted index.ipynb.\n",
      "Converted magic_flags.ipynb.\n",
      "Converted nbdev_callbacks.ipynb.\n",
      "Converted tutorial.ipynb.\n"
     ]
    }
   ],
   "source": [
    "#hide\n",
    "from nbdev.export import notebook2script\n",
    "notebook2script()"
   ]
  },
  {
   "cell_type": "code",
   "execution_count": null,
   "metadata": {},
   "outputs": [],
   "source": []
  }
 ],
 "metadata": {
  "kernelspec": {
   "display_name": "Python 3",
   "language": "python",
   "name": "python3"
  }
 },
 "nbformat": 4,
 "nbformat_minor": 4
}
