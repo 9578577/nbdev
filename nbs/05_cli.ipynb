{
 "cells": [
  {
   "cell_type": "markdown",
   "metadata": {},
   "source": [
    "# CLI commands\n",
    "\n",
    "> Console commands added by the nbdev library"
   ]
  },
  {
   "cell_type": "code",
   "execution_count": null,
   "metadata": {},
   "outputs": [],
   "source": [
    "# default_exp cli"
   ]
  },
  {
   "cell_type": "code",
   "execution_count": null,
   "metadata": {},
   "outputs": [],
   "source": [
    "# export\n",
    "from nbdev.imports import *\n",
    "from nbdev.export import *\n",
    "from nbdev.sync import *\n",
    "from nbdev.export2html import *\n",
    "from nbdev.test import *\n",
    "from fastscript.fastscript import call_parse, Param"
   ]
  },
  {
   "cell_type": "markdown",
   "metadata": {},
   "source": [
    "## Navigating from notebooks to script and back"
   ]
  },
  {
   "cell_type": "code",
   "execution_count": null,
   "metadata": {},
   "outputs": [],
   "source": [
    "#export\n",
    "@call_parse\n",
    "def nbdev_build_lib(fname:Param(\"A notebook name or glob to convert\", str)=None):\n",
    "    notebook2script(fname=fname)\n",
    "    write_tmpls()"
   ]
  },
  {
   "cell_type": "code",
   "execution_count": null,
   "metadata": {},
   "outputs": [],
   "source": [
    "#export\n",
    "@call_parse\n",
    "def nbdev_update_lib(fname:Param(\"A notebook name or glob to convert\", str)=None):\n",
    "    script2notebook(fname=fname)"
   ]
  },
  {
   "cell_type": "code",
   "execution_count": null,
   "metadata": {},
   "outputs": [],
   "source": [
    "#export\n",
    "@call_parse\n",
    "def nbdev_diff_nbs(): diff_nb_script()"
   ]
  },
  {
   "cell_type": "markdown",
   "metadata": {},
   "source": [
    "## Extracting tests"
   ]
  },
  {
   "cell_type": "code",
   "execution_count": null,
   "metadata": {},
   "outputs": [],
   "source": [
    "# export\n",
    "def _test_one(fname, flags=None):\n",
    "    time.sleep(random.random())\n",
    "    print(f\"testing: {fname}\")\n",
    "    try: test_nb(fname, flags=flags)\n",
    "    except Exception as e: print(e)"
   ]
  },
  {
   "cell_type": "code",
   "execution_count": null,
   "metadata": {},
   "outputs": [],
   "source": [
    "# export\n",
    "@call_parse\n",
    "def nbdev_test_nbs(fname:Param(\"A notebook name or glob to convert\", str)=None,\n",
    "                   flags:Param(\"Space separated list of flags\", str)=None):\n",
    "    if flags is not None: flags = flags.split(' ')\n",
    "    if fname is None: \n",
    "        files = [f for f in Config().nbs_path.glob('*.ipynb') if not f.name.startswith('_')]\n",
    "    else: files = glob.glob(fname)\n",
    "        \n",
    "    # make sure we are inside the notebook folder of the project\n",
    "    os.chdir(Config().nbs_path)\n",
    "    parallel(_test_one, files, flags=flags)"
   ]
  },
  {
   "cell_type": "markdown",
   "metadata": {},
   "source": [
    "## Building documentation"
   ]
  },
  {
   "cell_type": "code",
   "execution_count": null,
   "metadata": {},
   "outputs": [],
   "source": [
    "#export\n",
    "import time,random,warnings"
   ]
  },
  {
   "cell_type": "code",
   "execution_count": null,
   "metadata": {},
   "outputs": [],
   "source": [
    "#export\n",
    "def _leaf(k,v):\n",
    "    url = 'external_url' if \"http\" in v else 'url'\n",
    "    #if url=='url': v=v+'.html'\n",
    "    return {'title':k, url:v, 'output':'web,pdf'}"
   ]
  },
  {
   "cell_type": "code",
   "execution_count": null,
   "metadata": {},
   "outputs": [],
   "source": [
    "#export\n",
    "_k_names = ['folders', 'folderitems', 'subfolders', 'subfolderitems']\n",
    "def _side_dict(title, data, level=0):\n",
    "    k_name = _k_names[level]\n",
    "    level += 1\n",
    "    res = [(_side_dict(k, v, level) if isinstance(v,dict) else _leaf(k,v))\n",
    "        for k,v in data.items()]\n",
    "    return ({k_name:res} if not title\n",
    "            else res if title.startswith('empty')\n",
    "            else {'title': title, 'output':'web', k_name: res})"
   ]
  },
  {
   "cell_type": "code",
   "execution_count": null,
   "metadata": {},
   "outputs": [],
   "source": [
    "{\n",
    "  \"nbdev\": {\n",
    "    \"Overview\": \"\",\n",
    "    \"Export to modules\": \"export\",\n",
    "    \"Convert to html\": \"export2html\",\n",
    "    \"Synchronize and diff\": \"sync\",\n",
    "    \"Show doc\": \"showdoc\",\n",
    "    \"Test functions\": \"test\",\n",
    "    \"Command line functions\": \"cli\"\n",
    "  }\n",
    "}"
   ]
  },
  {
   "cell_type": "code",
   "execution_count": null,
   "metadata": {},
   "outputs": [],
   "source": [
    "#export\n",
    "def create_default_sidebar():\n",
    "    dic = {\"Overwiev\": \"\"}\n",
    "    names = [m.stem for m in Config().doc_path.glob('*.html') if m.name.endswith('.html')]\n",
    "    dic.update({n:n for n in names if n!='index'})\n",
    "    dic = {Config().lib_name: dic}\n",
    "    json.dump(dic, open(Config().doc_path/'sidebar.json', 'w'), indent=2)"
   ]
  },
  {
   "cell_type": "code",
   "execution_count": null,
   "metadata": {},
   "outputs": [],
   "source": [
    "#export\n",
    "def make_sidebar():\n",
    "    \"Making sidebar for the doc website\"\n",
    "    if not (Config().doc_path/'sidebar.json').exists(): create_default_sidebar()\n",
    "    else: sidebar_d = json.load(open(Config().doc_path/'sidebar.json', 'r'))\n",
    "    res = _side_dict('Sidebar', sidebar_d)\n",
    "    res = {'entries': [res]}\n",
    "    res_s = yaml.dump(res, default_flow_style=False)\n",
    "    res_s = res_s.replace('- subfolders:', '  subfolders:').replace(' - - ', '   - ')\n",
    "    res_s = f\"\"\"\n",
    "#################################################\n",
    "### THIS FILE WAS AUTOGENERATED! DO NOT EDIT! ###\n",
    "#################################################\n",
    "# Instead edit {'../../sidebar.json'}\n",
    "\"\"\"+res_s\n",
    "    open(Config().doc_path/'_data/sidebars/home_sidebar.yml', 'w').write(res_s)"
   ]
  },
  {
   "cell_type": "code",
   "execution_count": null,
   "metadata": {},
   "outputs": [],
   "source": [
    "# export\n",
    "_re_index = re.compile(r'^(?:\\d*_|)index\\.ipynb$')"
   ]
  },
  {
   "cell_type": "code",
   "execution_count": null,
   "metadata": {},
   "outputs": [],
   "source": [
    "# export\n",
    "def make_readme():\n",
    "    index_fn = None\n",
    "    for f in Config().nbs_path.glob('*.ipynb'):\n",
    "        if _re_index.match(f.name): index_fn = f\n",
    "    assert index_fn is not None, \"Could not locate index notebook\"\n",
    "    convert_md(index_fn, Config().config_file.parent, jekyll=False)\n",
    "    n = Config().config_file.parent/index_fn.with_suffix('.md').name\n",
    "    shutil.move(n, Config().config_file.parent/'README.md')"
   ]
  },
  {
   "cell_type": "code",
   "execution_count": null,
   "metadata": {},
   "outputs": [],
   "source": [
    "# export\n",
    "@call_parse\n",
    "def nbdev_build_docs(fname:Param(\"A notebook name or glob to convert\", str)=None,\n",
    "                     force_all:Param(\"Rebuild even notebooks that haven't changed\", bool)=False,\n",
    "                     mk_readme:Param(\"Also convert the index notebook to README\", bool)=True,):\n",
    "    notebook2html(fname=fname, force_all=force_all)\n",
    "    make_sidebar()\n",
    "    if mk_readme: make_readme()"
   ]
  },
  {
   "cell_type": "markdown",
   "metadata": {},
   "source": [
    "## Stripout"
   ]
  },
  {
   "cell_type": "code",
   "execution_count": null,
   "metadata": {},
   "outputs": [],
   "source": [
    "# export\n",
    "def rm_execution_count(o):\n",
    "    \"Remove execution count in `o`\"\n",
    "    if 'execution_count' in o: o['execution_count'] = None"
   ]
  },
  {
   "cell_type": "code",
   "execution_count": null,
   "metadata": {},
   "outputs": [],
   "source": [
    "# export\n",
    "def clean_cell_output(cell):\n",
    "    \"Remove execution count in `cell`\"\n",
    "    if 'outputs' in cell:\n",
    "        for o in cell['outputs']: rm_execution_count(o)"
   ]
  },
  {
   "cell_type": "code",
   "execution_count": null,
   "metadata": {},
   "outputs": [],
   "source": [
    "#export\n",
    "cell_metadata_keep = [\"hide_input\"]\n",
    "nb_metadata_keep   = [\"kernelspec\", \"jekyll\"]"
   ]
  },
  {
   "cell_type": "code",
   "execution_count": null,
   "metadata": {},
   "outputs": [],
   "source": [
    "# export\n",
    "def clean_cell(cell, clear_all=False):\n",
    "    \"Clen `cell` by removing superluous metadata or everything except the input if `clear_all`\"\n",
    "    rm_execution_count(cell)\n",
    "    if 'outputs' in cell:\n",
    "        if clear_all: cell['outputs'] = []\n",
    "        else:         clean_cell_output(cell)\n",
    "    cell['metadata'] = {} if clear_all else {k:v for k,v in cell['metadata'].items() if k in cell_metadata_keep}"
   ]
  },
  {
   "cell_type": "code",
   "execution_count": null,
   "metadata": {},
   "outputs": [],
   "source": [
    "tst = {'cell_type': 'code',\n",
    "       'execution_count': 26,\n",
    "       'metadata': {'hide_input': True, 'meta': 23},\n",
    "       'outputs': [{'execution_count': 2, 'output': 'super'}],\n",
    "       'source': 'awesome_code'}\n",
    "tst1 = tst.copy()\n",
    "\n",
    "clean_cell(tst)\n",
    "test_eq(tst, {'cell_type': 'code',\n",
    "              'execution_count': None,\n",
    "              'metadata': {'hide_input': True},\n",
    "              'outputs': [{'execution_count': None, 'output': 'super'}],\n",
    "              'source': 'awesome_code'})\n",
    "\n",
    "clean_cell(tst1, clear_all=True)\n",
    "test_eq(tst1, {'cell_type': 'code',\n",
    "               'execution_count': None,\n",
    "               'metadata': {},\n",
    "               'outputs': [],\n",
    "               'source': 'awesome_code'})"
   ]
  },
  {
   "cell_type": "code",
   "execution_count": null,
   "metadata": {},
   "outputs": [],
   "source": [
    "# export\n",
    "def clean_nb(nb, clear_all=False):\n",
    "    \"Clean `nb` from superfulous metadata, passing `clear_all` to `clean_cell`\"\n",
    "    for c in nb['cells']: clean_cell(c, clear_all=clear_all)\n",
    "    nb['metadata'] = {k:v for k,v in nb['metadata'].items() if k in nb_metadata_keep }"
   ]
  },
  {
   "cell_type": "code",
   "execution_count": null,
   "metadata": {},
   "outputs": [],
   "source": [
    "tst = {'cell_type': 'code',\n",
    "       'execution_count': 26,\n",
    "       'metadata': {'hide_input': True, 'meta': 23},\n",
    "       'outputs': [{'execution_count': 2, 'output': 'super'}],\n",
    "       'source': 'awesome_code'}\n",
    "nb = {'metadata': {'kernelspec': 'some_spec', 'jekyll': 'some_meta', 'meta': 37},\n",
    "      'cells': [tst]}\n",
    "\n",
    "clean_nb(nb)\n",
    "test_eq(nb['cells'][0], {'cell_type': 'code',\n",
    "              'execution_count': None,\n",
    "              'metadata': {'hide_input': True},\n",
    "              'outputs': [{'execution_count': None, 'output': 'super'}],\n",
    "              'source': 'awesome_code'})\n",
    "test_eq(nb['metadata'], {'kernelspec': 'some_spec', 'jekyll': 'some_meta'})"
   ]
  },
  {
   "cell_type": "code",
   "execution_count": null,
   "metadata": {},
   "outputs": [],
   "source": [
    "#export\n",
    "import io,sys,json"
   ]
  },
  {
   "cell_type": "code",
   "execution_count": null,
   "metadata": {},
   "outputs": [],
   "source": [
    "# export\n",
    "def _print_output(nb):\n",
    "    \"Print `nb` in stdout for git things\"\n",
    "    _output_stream = io.TextIOWrapper(sys.stdout.buffer, encoding='utf-8')\n",
    "    x = json.dumps(nb, sort_keys=True, indent=1, ensure_ascii=False)\n",
    "    _output_stream.write(x)\n",
    "    _output_stream.write(\"\\n\")\n",
    "    _output_stream.flush()"
   ]
  },
  {
   "cell_type": "code",
   "execution_count": null,
   "metadata": {},
   "outputs": [],
   "source": [
    "# export\n",
    "@call_parse\n",
    "def nbdev_clean_nbs(fname:Param(\"A notebook name or glob to convert\", str)=None, \n",
    "                    clear_all:Param(\"Clean all metadata and outputs\", bool)=False,\n",
    "                    disp:Param(\"Print the cleaned outputs\", bool)=False):\n",
    "    \"Clean all notebooks in `fname` to avoid merge conflicts\"\n",
    "    #Git hooks will pass the notebooks in the stdin\n",
    "    input_stream = io.TextIOWrapper(sys.stdin.buffer, encoding='utf-8') if sys.stdin else None\n",
    "    if input_stream and fname is None:\n",
    "        nb = json.load(input_stream)\n",
    "        clean_nb(nb, clear_all=clear_all)\n",
    "        _print_output(nb)\n",
    "        return\n",
    "    files = Config().nbs_path.glob('**/*.ipynb') if fname is None else glob.glob(fname)\n",
    "    for f in files:\n",
    "        if not str(f).endswith('.ipynb'): continue\n",
    "        nb = read_nb(f)\n",
    "        clean_nb(nb, clear_all=clear_all)\n",
    "        if disp: _print_output(nb)\n",
    "        else:\n",
    "            NotebookNotary().sign(nb)\n",
    "            nbformat.write(nb, str(f), version=4)"
   ]
  },
  {
   "cell_type": "markdown",
   "metadata": {},
   "source": [
    "## Other utils"
   ]
  },
  {
   "cell_type": "code",
   "execution_count": null,
   "metadata": {},
   "outputs": [],
   "source": [
    "# export\n",
    "@call_parse\n",
    "def nbdev_read_nbs(fname:Param(\"A notebook name or glob to convert\", str)=None):\n",
    "    \"Check all notebooks in `fname` can be opened\"\n",
    "    files = Config().nbs_path.glob('**/*.ipynb') if fname is None else glob.glob(fname)\n",
    "    for nb in files:\n",
    "        try: _ = read_nb(nb)\n",
    "        except Exception as e:\n",
    "            print(f\"{nb} is corrupted and can't be opened.\")\n",
    "            raise e"
   ]
  },
  {
   "cell_type": "code",
   "execution_count": null,
   "metadata": {},
   "outputs": [],
   "source": [
    "# export\n",
    "@call_parse\n",
    "def nbdev_trust_nbs(fname:Param(\"A notebook name or glob to convert\", str)=None,\n",
    "                    force:Param(\"Trust even notebooks that haven't changed\", bool)=False):\n",
    "    check_fname = Config().nbs_path/\".last_checked\"\n",
    "    last_checked = os.path.getmtime(check_fname) if check_fname.exists() else None\n",
    "    files = Config().nbs_path.glob('**/*.ipynb') if fname is None else glob.glob(fname)\n",
    "    for fn in files:\n",
    "        if last_checked and not force:\n",
    "            last_changed = os.path.getmtime(fn)\n",
    "            if last_changed < last_checked: continue\n",
    "        nb = read_nb(fn)\n",
    "        if not NotebookNotary().check_signature(nb): NotebookNotary().sign(nb)\n",
    "    check_fname.touch(exist_ok=True)"
   ]
  },
  {
   "cell_type": "markdown",
   "metadata": {},
   "source": [
    "## Git hooks"
   ]
  },
  {
   "cell_type": "code",
   "execution_count": null,
   "metadata": {},
   "outputs": [],
   "source": [
    "# export\n",
    "import subprocess"
   ]
  },
  {
   "cell_type": "code",
   "execution_count": null,
   "metadata": {},
   "outputs": [],
   "source": [
    "# export\n",
    "@call_parse\n",
    "def nbdev_install_git_hooks():\n",
    "    \"Install git hooks to clean/trust notebooks automatically\"\n",
    "    path = Config().config_file.parent\n",
    "    fn = path/'.git'/'hooks'/'post-merge'\n",
    "    #Trust notebooks after merge\n",
    "    with open(fn, 'w') as f:\n",
    "        f.write(\"\"\"#!/bin/bash\n",
    "echo \"Trusting notebooks\"\n",
    "nbdev_trust_nbs\n",
    "\"\"\"\n",
    "        )\n",
    "    os.chmod(fn, os.stat(fn).st_mode | stat.S_IEXEC)\n",
    "    #Clean notebooks on commit/diff\n",
    "    with open(path/'.gitconfig', 'w') as f:\n",
    "        f.write(\"\"\"# Generated by nbdev_install_git_hooks\n",
    "#\n",
    "# If you need to disable this instrumentation do:\n",
    "#\n",
    "# git config --local --unset include.path\n",
    "#\n",
    "# To restore the filter\n",
    "#\n",
    "# git config --local include.path .gitconfig\n",
    "#\n",
    "# If you see notebooks not stripped, checked the filters are applied in .gitattributes\n",
    "#\n",
    "[filter \"clean-nbs\"]\n",
    "        clean = nbdev_clean_nbs\n",
    "        smudge = cat\n",
    "        required = true\n",
    "[diff \"ipynb\"]\n",
    "        textconv = nbdev_clean_nbs --disp True --fname\n",
    "\"\"\")\n",
    "    cmd = \"git config --local include.path ../.gitconfig\"\n",
    "    print(f\"Executing: {cmd}\")\n",
    "    result = subprocess.run(cmd.split(), shell=False, check=False, stderr=subprocess.PIPE)\n",
    "    if result.returncode == 0:\n",
    "        print(\"Success: hooks are installed and repo's .gitconfig is now trusted\")\n",
    "    else:\n",
    "        print(\"Failed to trust repo's .gitconfig\")\n",
    "        if result.stderr: print(f\"Error: {result.stderr.decode('utf-8')}\")\n",
    "    with open(Config().nbs_path/'.gitattributes', 'w') as f:\n",
    "        f.write(\"\"\"**/*.ipynb filter=clean-nbs\n",
    "**/*.ipynb diff=ipynb\n",
    "\"\"\"\n",
    "               )"
   ]
  },
  {
   "cell_type": "markdown",
   "metadata": {},
   "source": [
    "## Export -"
   ]
  },
  {
   "cell_type": "code",
   "execution_count": null,
   "metadata": {},
   "outputs": [
    {
     "name": "stdout",
     "output_type": "stream",
     "text": [
      "Converted 00_export.ipynb.\n",
      "Converted 01_sync.ipynb.\n",
      "Converted 02_showdoc.ipynb.\n",
      "Converted 03_export2html.ipynb.\n",
      "Converted 04_test.ipynb.\n",
      "Converted 05_cli.ipynb.\n",
      "Converted index.ipynb.\n"
     ]
    }
   ],
   "source": [
    "#hide\n",
    "notebook2script()"
   ]
  },
  {
   "cell_type": "code",
   "execution_count": null,
   "metadata": {},
   "outputs": [],
   "source": []
  }
 ],
 "metadata": {
  "kernelspec": {
   "display_name": "Python 3",
   "language": "python",
   "name": "python3"
  }
 },
 "nbformat": 4,
 "nbformat_minor": 2
}
