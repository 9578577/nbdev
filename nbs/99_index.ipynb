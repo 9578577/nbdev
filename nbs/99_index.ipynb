{
 "cells": [
  {
   "cell_type": "markdown",
   "metadata": {},
   "source": [
    "# Welcome to nbdev\n",
    "\n",
    "> \n",
    "\n",
    "- toc: false"
   ]
  },
  {
   "cell_type": "markdown",
   "metadata": {},
   "source": [
    "`nbdev` is a library that allows you to fully develop a library in [jupyter notebooks](https://jupyter.org/), putting all your code, tests and documentation in one place. Using the interactive enviromnent, you can easily debug and refactor your code. By simply adding `#export` flags to the cells that define the functions you want to keep, you can then convert your notebook in a standard python module with just one command in the console or one line of code at the end of your notebook:\n",
    "\n",
    "![An exported cell](images/export_example.png)\n",
    "\n",
    "Here the function `add_init` is defined in the first cell (marked with the export flag) and tested in the second cell. In the last cell of your notebook, you can then run:"
   ]
  },
  {
   "cell_type": "code",
   "execution_count": null,
   "metadata": {},
   "outputs": [
    {
     "name": "stdout",
     "output_type": "stream",
     "text": [
      "Converted 00_export.ipynb.\n",
      "Converted 01_sync.ipynb.\n",
      "Converted 02_showdoc.ipynb.\n",
      "Converted 03_export2html.ipynb.\n",
      "Converted 04_test.ipynb.\n",
      "Converted 05_cli.ipynb.\n",
      "Converted 99_index.ipynb.\n"
     ]
    }
   ],
   "source": [
    "from nbdev.export import *\n",
    "notebook2script()"
   ]
  },
  {
   "cell_type": "markdown",
   "metadata": {},
   "source": [
    "Or in the command line, you can run:\n",
    "``` bash\n",
    "nbdev_build_lib\n",
    "```\n",
    "as long as you are somewhere in the folder where you are developing your library.\n",
    "\n",
    "Since you are in a notebook, you can also add text, links or images that will be kept along with the tests when you generate the documentation of your library. The cells where your code is defined will be hidden and replaced by a satandard documentation of your function, showing its name, arguments, docstring, and link to the source code on github. For instance, the cells before are converted to:\n",
    "\n",
    "![doc example](images/doc_example.png)"
   ]
  },
  {
   "cell_type": "markdown",
   "metadata": {},
   "source": [
    "In the other pages of the documentaiton, you can get more details about:\n",
    "- the `export` functionality from jupyter noteboks to a python library\n",
    "- the `cli` commands you can use with nbdev in a terminal\n",
    "- how `export2html` buils a documentation for your libary\n",
    "- how `sync` can allow you to export back form the pyhton modules to the jupyter notebook\n",
    "- how `test` put in your notebooks can be run in parallel to export a CI from your notebooks"
   ]
  },
  {
   "cell_type": "markdown",
   "metadata": {},
   "source": [
    "## Installing"
   ]
  },
  {
   "cell_type": "markdown",
   "metadata": {},
   "source": [
    "nbdev is is on PyPI so you can just run\n",
    "``` \n",
    "pip install nbdev\n",
    "```\n",
    "For a developer install, use the following\n",
    "```\n",
    "git clone https://github.com/fastai/nbdev\n",
    "cd nbdev\n",
    "pip install -e .\n",
    "```"
   ]
  },
  {
   "cell_type": "code",
   "execution_count": null,
   "metadata": {},
   "outputs": [],
   "source": []
  }
 ],
 "metadata": {
  "jekyll": {
   "keywords": "fastai",
   "toc": "false"
  },
  "kernelspec": {
   "display_name": "Python 3",
   "language": "python",
   "name": "python3"
  }
 },
 "nbformat": 4,
 "nbformat_minor": 2
}
