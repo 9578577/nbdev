{
 "cells": [
  {
   "cell_type": "code",
   "execution_count": null,
   "metadata": {},
   "outputs": [],
   "source": [
    "# export\n",
    "from nbdev.imports import *\n",
    "from nbdev.export import *"
   ]
  },
  {
   "cell_type": "code",
   "execution_count": null,
   "metadata": {},
   "outputs": [],
   "source": [
    "# default_exp merge"
   ]
  },
  {
   "cell_type": "markdown",
   "metadata": {},
   "source": [
    "# Fix merge conflicts\n",
    "\n",
    "> Fix merge conflicts in jupyter notebooks"
   ]
  },
  {
   "cell_type": "markdown",
   "metadata": {},
   "source": [
    "When working with jupyter notebooks (which are json files behind the scenes) and GitHub, it is very common that a merge conflict (that will add new lines in the notebook source file) will break some notebooks you are working on. This module defines the function `fix_conflicts` to fix those notebooks for you, and attempt to automatically merge standard conflicts. The remaining ones will be delimited by markdown cells like this:"
   ]
  },
  {
   "cell_type": "markdown",
   "metadata": {},
   "source": [
    "<img alt=\"Fixed notebook\" width=\"700\" caption=\"A notebook fixed after a merged conflict. The file couldn't be opened before the command was run, but after it the conflict is higlighted by markdown cells.\" src=\"images/merge.PNG\" />"
   ]
  },
  {
   "cell_type": "code",
   "execution_count": null,
   "metadata": {},
   "outputs": [],
   "source": [
    "#export\n",
    "def extract_cells(raw_txt):\n",
    "    \"Manually extract cells in potential broken json `raw_txt`\"\n",
    "    lines = raw_txt.split('\\n')\n",
    "    cells = []\n",
    "    i = 0\n",
    "    while not lines[i].startswith(' \"cells\"'): i+=1\n",
    "    i += 1\n",
    "    start = '\\n'.join(lines[:i])\n",
    "    while lines[i] != ' ],':\n",
    "        while lines[i] != '  {': i+=1\n",
    "        j = i\n",
    "        while not lines[j].startswith('  }'): j+=1\n",
    "        c = '\\n'.join(lines[i:j+1])\n",
    "        if not c.endswith(','): c = c + ','\n",
    "        cells.append(c)\n",
    "        i = j+1\n",
    "    end = '\\n'.join(lines[i:])\n",
    "    return start,cells,end"
   ]
  },
  {
   "cell_type": "code",
   "execution_count": null,
   "metadata": {},
   "outputs": [],
   "source": [
    "#export\n",
    "conflicts = '<<<<<<< ======= >>>>>>>'.split()"
   ]
  },
  {
   "cell_type": "code",
   "execution_count": null,
   "metadata": {},
   "outputs": [],
   "source": [
    "#export\n",
    "def get_md_cell(txt):\n",
    "    \"A markdown cell with `txt`\"\n",
    "    return '''  {\n",
    "   \"cell_type\": \"markdown\",\n",
    "   \"metadata\": {},\n",
    "   \"source\": [\n",
    "    \"''' + txt + '''\"\n",
    "   ]\n",
    "  },'''"
   ]
  },
  {
   "cell_type": "code",
   "execution_count": null,
   "metadata": {},
   "outputs": [],
   "source": [
    "tst = '''  {\n",
    "   \"cell_type\": \"markdown\",\n",
    "   \"metadata\": {},\n",
    "   \"source\": [\n",
    "    \"A bit of markdown\"\n",
    "   ]\n",
    "  },'''\n",
    "assert get_md_cell(\"A bit of markdown\") == tst"
   ]
  },
  {
   "cell_type": "code",
   "execution_count": null,
   "metadata": {},
   "outputs": [],
   "source": [
    "#export\n",
    "def _split_cell(cell, cf, names):\n",
    "    res1,res2 = [],[]\n",
    "    for line in cell.split('\\n'):\n",
    "        if line.startswith(conflicts[cf]):\n",
    "            if names[cf//2] is None: names[cf//2] = line[8:]\n",
    "            cf = (cf+1)%3\n",
    "            continue\n",
    "        if cf<2:    res1.append(line)\n",
    "        if cf%2==0: res2.append(line)\n",
    "    return '\\n'.join(res1),'\\n'.join(res2),cf,names"
   ]
  },
  {
   "cell_type": "code",
   "execution_count": null,
   "metadata": {},
   "outputs": [],
   "source": [
    "#hide\n",
    "tst = '\\n'.join(['a', f'{conflicts[0]} HEAD', 'b', conflicts[1], 'c', f'{conflicts[2]} lala', 'd'])\n",
    "v1,v2,cf,names = _split_cell(tst, 0, [None,None])\n",
    "assert v1 == 'a\\nb\\nd'\n",
    "assert v2 == 'a\\nc\\nd'\n",
    "assert cf == 0\n",
    "assert names == ['HEAD', 'lala']"
   ]
  },
  {
   "cell_type": "code",
   "execution_count": null,
   "metadata": {},
   "outputs": [],
   "source": [
    "#hide\n",
    "tst = '\\n'.join(['a', f'{conflicts[0]} HEAD', 'b', conflicts[1], 'c', f'{conflicts[2]} lala', 'd', f'{conflicts[0]} HEAD', 'e'])\n",
    "v1,v2,cf,names = _split_cell(tst, 0, [None,None])\n",
    "assert v1 == 'a\\nb\\nd\\ne'\n",
    "assert v2 == 'a\\nc\\nd'\n",
    "assert cf == 1\n",
    "assert names == ['HEAD', 'lala']"
   ]
  },
  {
   "cell_type": "code",
   "execution_count": null,
   "metadata": {},
   "outputs": [],
   "source": [
    "#hide\n",
    "tst = '\\n'.join(['a', f'{conflicts[0]} HEAD', 'b', conflicts[1], 'c', f'{conflicts[2]} lala', 'd', f'{conflicts[0]} HEAD', 'e', conflicts[1]])\n",
    "v1,v2,cf,names = _split_cell(tst, 0, [None,None])\n",
    "assert v1 == 'a\\nb\\nd\\ne'\n",
    "assert v2 == 'a\\nc\\nd'\n",
    "assert cf == 2\n",
    "assert names == ['HEAD', 'lala']"
   ]
  },
  {
   "cell_type": "code",
   "execution_count": null,
   "metadata": {},
   "outputs": [],
   "source": [
    "#hide\n",
    "tst = '\\n'.join(['b', conflicts[1], 'c', f'{conflicts[2]} lala', 'd'])\n",
    "v1,v2,cf,names = _split_cell(tst, 1, ['HEAD',None])\n",
    "assert v1 == 'b\\nd'\n",
    "assert v2 == 'c\\nd'\n",
    "assert cf == 0\n",
    "assert names == ['HEAD', 'lala']"
   ]
  },
  {
   "cell_type": "code",
   "execution_count": null,
   "metadata": {},
   "outputs": [],
   "source": [
    "#hide\n",
    "tst = '\\n'.join(['c', f'{conflicts[2]} lala', 'd'])\n",
    "v1,v2,cf,names = _split_cell(tst, 2, ['HEAD',None])\n",
    "assert v1 == 'd'\n",
    "assert v2 == 'c\\nd'\n",
    "assert cf == 0\n",
    "assert names == ['HEAD', 'lala']"
   ]
  },
  {
   "cell_type": "code",
   "execution_count": null,
   "metadata": {},
   "outputs": [],
   "source": [
    "#export\n",
    "_re_conflict = re.compile(r'^<<<<<<<', re.MULTILINE)"
   ]
  },
  {
   "cell_type": "code",
   "execution_count": null,
   "metadata": {},
   "outputs": [],
   "source": [
    "#hide\n",
    "assert _re_conflict.search('a\\nb\\nc') is None\n",
    "assert _re_conflict.search('a\\n<<<<<<<\\nc') is not None"
   ]
  },
  {
   "cell_type": "code",
   "execution_count": null,
   "metadata": {},
   "outputs": [],
   "source": [
    "#export\n",
    "def quasi_equal(v1, v2):\n",
    "    if len(v1)==0 or len(v2)==0: return False \n",
    "    try:\n",
    "        c1,c2 = json.loads(v1[:-1]),json.loads(v2[:-1])\n",
    "        return c1['source']==c2['source']\n",
    "    except Exception as e: return False"
   ]
  },
  {
   "cell_type": "code",
   "execution_count": null,
   "metadata": {},
   "outputs": [],
   "source": [
    "#export\n",
    "def analyze_cell(cell, cf, names, prev=None, added=False, fast=True, trust_us=True):\n",
    "    \"Analyze and solve conflicts in `cell`\"\n",
    "    if cf==0 and _re_conflict.search(cell) is None: return cell,cf,names,prev,added\n",
    "    old_cf = cf\n",
    "    v1,v2,cf,names = _split_cell(cell, cf, names)\n",
    "    if fast and quasi_equal(v1,v2):\n",
    "        if old_cf==0 and cf==0: return (v2 if trust_us else v1),cf,names,prev,added\n",
    "        v1,v2 = (v2,v2) if trust_us else (v1,v1)\n",
    "    res = []\n",
    "    if old_cf == 0: \n",
    "        added=True\n",
    "        res.append(get_md_cell(f'`{conflicts[0]} {names[0]}`'))\n",
    "    res.append(v1)\n",
    "    if cf ==0:\n",
    "        res.append(get_md_cell(f'`{conflicts[1]}`'))\n",
    "        if prev is not None: res += prev\n",
    "        res.append(v2)\n",
    "        res.append(get_md_cell(f'`{conflicts[2]} {names[1]}`'))\n",
    "        prev = None\n",
    "    else: prev = [v2] if prev is None else prev + [v2]\n",
    "    return '\\n'.join([r for r in res if len(r) > 0]),cf,names,prev,added"
   ]
  },
  {
   "cell_type": "code",
   "execution_count": null,
   "metadata": {},
   "outputs": [],
   "source": [
    "#hide\n",
    "tst = '\\n'.join(['a', f'{conflicts[0]} HEAD', 'b', conflicts[1], 'c'])\n",
    "c,cf,names,prev,added = analyze_cell(tst, 0, [None,None], None, False,fast=False)"
   ]
  },
  {
   "cell_type": "code",
   "execution_count": null,
   "metadata": {},
   "outputs": [],
   "source": [
    "#export\n",
    "def fix_conflicts(fname, fast=True, trust_us=True):\n",
    "    \"Fix broken notebook in `fname`\"\n",
    "    fname=Path(fname)\n",
    "    shutil.copy(fname, fname.with_suffix('.ipynb.bak'))\n",
    "    with open(fname, 'r') as f: raw_text = f.read()\n",
    "    start,cells,end = extract_cells(raw_text)\n",
    "    res = [start]\n",
    "    cf,names,prev,added = 0,[None,None],None,False\n",
    "    for cell in cells:\n",
    "        c,cf,names,prev,added = analyze_cell(cell, cf, names, prev, added, fast=fast, trust_us=trust_us)\n",
    "        res.append(c)\n",
    "    if res[-1].endswith(','): res[-1] = res[-1][:-1]\n",
    "    with open(f'{fname}', 'w') as f: f.write('\\n'.join([r for r in res+[end] if len(r) > 0]))\n",
    "    if fast and not added: print(\"Succesfully merged conflicts!\")\n",
    "    else: print(\"One or more conflict remains in the notebook, please inspect manually.\")"
   ]
  },
  {
   "cell_type": "markdown",
   "metadata": {},
   "source": [
    "## Export-"
   ]
  },
  {
   "cell_type": "code",
   "execution_count": null,
   "metadata": {},
   "outputs": [
    {
     "name": "stdout",
     "output_type": "stream",
     "text": [
      "Converted 00_export.ipynb.\n",
      "Converted 01_sync.ipynb.\n",
      "Converted 02_showdoc.ipynb.\n",
      "Converted 03_export2html.ipynb.\n",
      "Converted 04_test.ipynb.\n",
      "Converted 05_merge.ipynb.\n",
      "Converted 06_cli.ipynb.\n",
      "Converted 99_search.ipynb.\n",
      "Converted index.ipynb.\n"
     ]
    }
   ],
   "source": [
    "#hide\n",
    "notebook2script()"
   ]
  },
  {
   "cell_type": "code",
   "execution_count": null,
   "metadata": {},
   "outputs": [],
   "source": []
  }
 ],
 "metadata": {
  "kernelspec": {
   "display_name": "Python 3",
   "language": "python",
   "name": "python3"
  }
 },
 "nbformat": 4,
 "nbformat_minor": 2
}
