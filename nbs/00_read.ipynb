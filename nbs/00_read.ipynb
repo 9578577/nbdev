{
 "cells": [
  {
   "cell_type": "code",
   "execution_count": null,
   "metadata": {},
   "outputs": [],
   "source": [
    "#hide\n",
    "#default_exp read"
   ]
  },
  {
   "cell_type": "markdown",
   "metadata": {},
   "source": [
    "# nbdev.read\n",
    "- Reading a notebook, and initial bootstrapping for notebook exporting"
   ]
  },
  {
   "cell_type": "code",
   "execution_count": null,
   "metadata": {},
   "outputs": [],
   "source": [
    "#export\n",
    "from fastcore.imports import *\n",
    "from fastcore.foundation import *\n",
    "from fastcore.utils import *\n",
    "from fastcore.test import *\n",
    "from fastcore.script import *\n",
    "\n",
    "import json,ast"
   ]
  },
  {
   "cell_type": "code",
   "execution_count": null,
   "metadata": {},
   "outputs": [],
   "source": [
    "import time,nbclient,tempfile\n",
    "from IPython.display import Markdown\n",
    "from pdb import set_trace"
   ]
  },
  {
   "cell_type": "markdown",
   "metadata": {},
   "source": [
    "## Reading and executing notebooks"
   ]
  },
  {
   "cell_type": "markdown",
   "metadata": {},
   "source": [
    "A notebook is just a json file:"
   ]
  },
  {
   "cell_type": "code",
   "execution_count": null,
   "metadata": {},
   "outputs": [],
   "source": [
    "minimal_txt = json.loads(open('../tests/minimal.ipynb').read())"
   ]
  },
  {
   "cell_type": "markdown",
   "metadata": {},
   "source": [
    "We're create a function that lets use display JSON in a more compact form, so we can take a look at this file:"
   ]
  },
  {
   "cell_type": "code",
   "execution_count": null,
   "metadata": {},
   "outputs": [],
   "source": [
    "def _display_json(js):\n",
    "    \"Formatter to reduce vertical space used by JSON display\"\n",
    "    s = re.sub(r',\\s*\\n\\s*(.*,)', r', \\1', json.dumps(js, indent=1))\n",
    "    s = re.sub(r'\\[\\s*\\n\\s*([^,]*)\\n\\s*\\]', r'[ \\1 ]', s)\n",
    "    return Markdown(f\"```js\\n{s}\\n```\")"
   ]
  },
  {
   "cell_type": "code",
   "execution_count": null,
   "metadata": {},
   "outputs": [
    {
     "data": {
      "text/markdown": [
       "```js\n",
       "{\n",
       " \"cells\": [\n",
       "  {\n",
       "   \"cell_type\": \"markdown\", \"metadata\": {},\n",
       "   \"source\": [ \"# A minimal notebook\" ]\n",
       "  },\n",
       "  {\n",
       "   \"cell_type\": \"code\", \"execution_count\": null,\n",
       "   \"metadata\": {\n",
       "    \"foo\": \"bar\"\n",
       "   }, \"outputs\": [],\n",
       "   \"source\": [\n",
       "    \"# Do some arithmetic\\n\",\n",
       "    \"1+1\"\n",
       "   ]\n",
       "  }\n",
       " ],\n",
       " \"metadata\": {\n",
       "  \"kernelspec\": {\n",
       "   \"display_name\": \"Python 3\", \"language\": \"python\",\n",
       "   \"name\": \"python3\"\n",
       "  },\n",
       "  \"language_info\": {\n",
       "   \"codemirror_mode\": {\n",
       "    \"name\": \"ipython\",\n",
       "    \"version\": 3\n",
       "   }, \"file_extension\": \".py\",\n",
       "   \"mimetype\": \"text/x-python\", \"name\": \"python\",\n",
       "   \"nbconvert_exporter\": \"python\", \"pygments_lexer\": \"ipython3\",\n",
       "   \"version\": \"3.8.3\"\n",
       "  }\n",
       " }, \"nbformat\": 4,\n",
       " \"nbformat_minor\": 4\n",
       "}\n",
       "```"
      ],
      "text/plain": [
       "<IPython.core.display.Markdown object>"
      ]
     },
     "execution_count": null,
     "metadata": {},
     "output_type": "execute_result"
    }
   ],
   "source": [
    "_display_json(minimal_txt)"
   ]
  },
  {
   "cell_type": "markdown",
   "metadata": {},
   "source": [
    "The important bit for us is the `cells`:"
   ]
  },
  {
   "cell_type": "code",
   "execution_count": null,
   "metadata": {},
   "outputs": [
    {
     "data": {
      "text/markdown": [
       "```js\n",
       "[\n",
       " {\n",
       "  \"cell_type\": \"markdown\", \"metadata\": {},\n",
       "  \"source\": [ \"# A minimal notebook\" ]\n",
       " },\n",
       " {\n",
       "  \"cell_type\": \"code\", \"execution_count\": null,\n",
       "  \"metadata\": {\n",
       "   \"foo\": \"bar\"\n",
       "  }, \"outputs\": [],\n",
       "  \"source\": [\n",
       "   \"# Do some arithmetic\\n\",\n",
       "   \"1+1\"\n",
       "  ]\n",
       " }\n",
       "]\n",
       "```"
      ],
      "text/plain": [
       "<IPython.core.display.Markdown object>"
      ]
     },
     "execution_count": null,
     "metadata": {},
     "output_type": "execute_result"
    }
   ],
   "source": [
    "_display_json(minimal_txt['cells'])"
   ]
  },
  {
   "cell_type": "markdown",
   "metadata": {},
   "source": [
    "The second cell here is a `code` cell, however it contains no outputs, because it hasn't been executed yet. To execute a notebook, we first need to convert it into a format suitable for `nbclient` (which expects some `dict` keys to be available as attrs, and some available as regular `dict` keys). Normally, `nbformat` is used for this step, but it's rather slow and inflexible, so we'll write our own function based on `fastcore`'s handy `dict2obj`, which makes all keys available as both attrs *and* keys."
   ]
  },
  {
   "cell_type": "code",
   "execution_count": null,
   "metadata": {},
   "outputs": [],
   "source": [
    "#export\n",
    "class NbCell(AttrDict):\n",
    "    def __init__(self, idx, cell):\n",
    "        for k,v in cell.items(): self[k] = v\n",
    "        self.idx = idx\n",
    "        if 'source' in self: self.set_source(self.source)\n",
    "\n",
    "    def __repr__(self): return self.source\n",
    "    \n",
    "    def set_source(self, source):\n",
    "        self.source = ''.join(source)\n",
    "        if self.cell_type=='code' and self.source[:1]!='%':self.parsed = ast.parse(self.source).body"
   ]
  },
  {
   "cell_type": "markdown",
   "metadata": {},
   "source": [
    "We use an `AttrDict` subclass which has some basic functionality for accessing notebook cells."
   ]
  },
  {
   "cell_type": "code",
   "execution_count": null,
   "metadata": {},
   "outputs": [],
   "source": [
    "#export\n",
    "def dict2nb(js):\n",
    "    \"Convert a dict to an `AttrDict`, \"\n",
    "    nb = dict2obj(js)\n",
    "    nb.cells = nb.cells.enumerate().starmap(NbCell)\n",
    "    return nb"
   ]
  },
  {
   "cell_type": "markdown",
   "metadata": {},
   "source": [
    "We can now convert our JSON into this `nbclient`-compatible format..."
   ]
  },
  {
   "cell_type": "code",
   "execution_count": null,
   "metadata": {},
   "outputs": [],
   "source": [
    "minimal = dict2nb(minimal_txt)"
   ]
  },
  {
   "cell_type": "markdown",
   "metadata": {},
   "source": [
    "...and execute it:"
   ]
  },
  {
   "cell_type": "code",
   "execution_count": null,
   "metadata": {},
   "outputs": [],
   "source": [
    "nbclient.execute(minimal);"
   ]
  },
  {
   "cell_type": "markdown",
   "metadata": {},
   "source": [
    "One nice feature of the output of `dict2nb` is that we can still use it as a `dict`, so `display_json` still works as before:"
   ]
  },
  {
   "cell_type": "code",
   "execution_count": null,
   "metadata": {},
   "outputs": [
    {
     "data": {
      "text/markdown": [
       "```js\n",
       "[\n",
       " {\n",
       "  \"output_type\": \"execute_result\", \"metadata\": {},\n",
       "  \"data\": {\n",
       "   \"text/plain\": \"2\"\n",
       "  },\n",
       "  \"execution_count\": 1\n",
       " }\n",
       "]\n",
       "```"
      ],
      "text/plain": [
       "<IPython.core.display.Markdown object>"
      ]
     },
     "execution_count": null,
     "metadata": {},
     "output_type": "execute_result"
    }
   ],
   "source": [
    "_display_json(minimal.cells[1].outputs)"
   ]
  },
  {
   "cell_type": "markdown",
   "metadata": {},
   "source": [
    "We can see that the cell has been executed, and the output added back to the `nb`. Since loading JSON and converting to an NB is something we'll do a lot, we'll create a shortcut function for it:"
   ]
  },
  {
   "cell_type": "code",
   "execution_count": null,
   "metadata": {},
   "outputs": [],
   "source": [
    "#export\n",
    "def read_nb(path):\n",
    "    \"Return notebook at `path`\"\n",
    "    with open(path) as f: return dict2nb(json.loads(f.read()))"
   ]
  },
  {
   "cell_type": "code",
   "execution_count": null,
   "metadata": {},
   "outputs": [
    {
     "data": {
      "text/plain": [
       "'# A minimal notebook'"
      ]
     },
     "execution_count": null,
     "metadata": {},
     "output_type": "execute_result"
    }
   ],
   "source": [
    "minimal = read_nb('../tests/minimal.ipynb')\n",
    "f'{minimal.cells[0]}'"
   ]
  },
  {
   "cell_type": "markdown",
   "metadata": {},
   "source": [
    "## Config and init functions"
   ]
  },
  {
   "cell_type": "code",
   "execution_count": null,
   "metadata": {},
   "outputs": [],
   "source": [
    "#export\n",
    "@call_parse\n",
    "def nbdev_create_config(\n",
    "    user:Param(\"Repo username\", str),\n",
    "    host:Param(\"Repo hostname\", str)='github',\n",
    "    lib_name:Param(\"Name of library\", str)=None,\n",
    "    path:Param(\"Path to create config file\", str)='.',\n",
    "    cfg_name:Param(\"Name of config file to create\", str)='settings.ini',\n",
    "    branch:Param(\"Repo branch\", str)='master',\n",
    "    git_url:Param(\"Repo URL\", str)=\"https://github.com/%(user)s/%(lib_name)s/tree/%(branch)s/\",\n",
    "    custom_sidebar:Param(\"Create custom sidebar?\", bool_arg)=False,\n",
    "    nbs_path:Param(\"Name of folder containing notebooks\", str)='.',\n",
    "    lib_path:Param(\"Folder name of root module\", str)='%(lib_name)s',\n",
    "    doc_path:Param(\"Folder name containing docs\", str)='docs',\n",
    "    tst_flags:Param(\"Test flags\", str)='',\n",
    "    version:Param(\"Version number\", str)='0.0.1',\n",
    "    **kwargs\n",
    "):\n",
    "    \"Creates a new config file for `lib_name` and `user` and saves it.\"\n",
    "    if lib_name is None:\n",
    "        parent = Path.cwd().parent\n",
    "        lib_name = parent.parent.name if parent.name=='nbs' else parent.name\n",
    "    g = locals()\n",
    "    config = {o:g[o] for o in 'host lib_name user branch git_url lib_path nbs_path doc_path \\\n",
    "        tst_flags version custom_sidebar'.split()}\n",
    "    config = {**config, **kwargs}\n",
    "    save_config_file(Path(path)/cfg_name, config)"
   ]
  },
  {
   "cell_type": "markdown",
   "metadata": {},
   "source": [
    "This is just a wrapper for `fastcore`'s `save_config_file` which sets some `nbdev` defaults."
   ]
  },
  {
   "cell_type": "code",
   "execution_count": null,
   "metadata": {},
   "outputs": [],
   "source": [
    "nbdev_create_config('fastai', path='..', nbs_path='nbs', tst_flags='tst', cfg_name='test_settings.ini')\n",
    "cfg = Config(cfg_name='test_settings.ini')\n",
    "test_eq(cfg.lib_name, 'nbdev')\n",
    "test_eq(cfg.git_url, \"https://github.com/fastai/nbdev/tree/master/\")\n",
    "cwd = Path.cwd()\n",
    "test_eq(cfg.path('lib_path'), cwd.parent/'nbdev')\n",
    "test_eq(cfg.path('nbs_path'), cwd)\n",
    "test_eq(cfg.path('doc_path'), cwd.parent/'docs')"
   ]
  },
  {
   "cell_type": "code",
   "execution_count": null,
   "metadata": {},
   "outputs": [],
   "source": [
    "#export\n",
    "_init,_version = '__init__.py','version.py'\n",
    "def update_version(path:Path):\n",
    "    \"Add or update `__version__` in `version.py`\"\n",
    "    path = Path(path)\n",
    "    (path/_version).write_text(f\"__version__='{Config().version}'\\n\")"
   ]
  },
  {
   "cell_type": "code",
   "execution_count": null,
   "metadata": {},
   "outputs": [],
   "source": [
    "#export\n",
    "def _has_py(fs): return any(1 for f in fs if f.endswith('.py'))\n",
    "\n",
    "def add_init(path):\n",
    "    \"Add `__init__.py` in all subdirs of `path` containing python files if it's not there already\"\n",
    "    # we add the lowest-level `__init__.py` files first, which ensures _has_py succeeds for parent modules\n",
    "    path = Path(path)\n",
    "    if not (path/_version).exists(): update_version(path)\n",
    "    if not (path/_init).exists(): (path/_init).write_text(\"from .version import __version__\\n\")\n",
    "    for r,ds,fs in os.walk(path, topdown=False):\n",
    "        r = Path(r)\n",
    "        subds = (os.listdir(r/d) for d in ds)\n",
    "        if _has_py(fs) or any(filter(_has_py, subds)) and not (r/_init).exists(): (r/_init).touch()"
   ]
  },
  {
   "cell_type": "code",
   "execution_count": null,
   "metadata": {},
   "outputs": [],
   "source": [
    "#hide\n",
    "with tempfile.TemporaryDirectory() as d:\n",
    "    d = Path(d)\n",
    "    (d/'a/b').mkdir(parents=True)\n",
    "    (d/'a/b/f.py').touch()\n",
    "    (d/'a/c').mkdir()\n",
    "    add_init(d)\n",
    "    assert not (d/'a/c'/_init).exists()\n",
    "    for e in [d, d/'a', d/'a/b']: assert (e/_init).exists(),e"
   ]
  },
  {
   "cell_type": "code",
   "execution_count": null,
   "metadata": {},
   "outputs": [],
   "source": [
    "#export\n",
    "@with_cast\n",
    "def cell_header(nb_path:Path, lib_path:Path):\n",
    "    \"Create `#nbdev_cell {source file}` header\"\n",
    "    return f\"#nbdev_cell {os.path.relpath(nb_path.resolve(), lib_path)}\""
   ]
  },
  {
   "cell_type": "code",
   "execution_count": null,
   "metadata": {},
   "outputs": [],
   "source": [
    "#export\n",
    "def export_cells(cells, hdr, file, offset=0):\n",
    "    \"Export `cells` to `file`\"\n",
    "    for cell in cells: file.write(f'{hdr} {cell.idx}\\n{cell}\\n\\n\\n')"
   ]
  },
  {
   "cell_type": "code",
   "execution_count": null,
   "metadata": {},
   "outputs": [],
   "source": [
    "#export\n",
    "def create_all_cell(vs):\n",
    "    \"Create string that defines `__all__` with `vs`\"\n",
    "    return f\"#nbdev_cell auto 0\\n__all__ = {list(vs)}\\n\\n\\n\""
   ]
  },
  {
   "cell_type": "code",
   "execution_count": null,
   "metadata": {},
   "outputs": [],
   "source": [
    "#export\n",
    "def risinstance(types, obj=None):\n",
    "    \"Curried `isinstance` but with args reversed, suitable for `partial`\"\n",
    "    if not obj: return partial(risinstance,types)\n",
    "    return isinstance(obj, types)"
   ]
  },
  {
   "cell_type": "code",
   "execution_count": null,
   "metadata": {},
   "outputs": [],
   "source": [
    "# Fairly basic export to bootstrap nbdev. See next notebook for more complete implementation\n",
    "def _export_nb(fname, dest):\n",
    "    # grab the source from all the cells that have an `export` comment\n",
    "    nb = read_nb(fname)\n",
    "    cells = L(cell for cell in nb.cells if re.match(r'#\\s*export', cell.source))\n",
    "    \n",
    "    # find all the exported functions, to create `__all__`:\n",
    "    funcs = cells.attrgot('parsed').concat().filter(risinstance((ast.FunctionDef,ast.ClassDef))).attrgot('name')\n",
    "    exp_funcs = [f for f in funcs if f[0]!='_']\n",
    "\n",
    "    # write out the file\n",
    "    dest = Path(dest)\n",
    "    dest.mkdir(exist_ok=True)\n",
    "    hdr = cell_header(\"00_read.ipynb\", Config().path('lib_path'))\n",
    "    with (dest/'read.py').open('w') as f:\n",
    "        f.write(create_all_cell(exp_funcs))\n",
    "        export_cells(cells, hdr, f)"
   ]
  },
  {
   "cell_type": "code",
   "execution_count": null,
   "metadata": {},
   "outputs": [],
   "source": [
    "#hide\n",
    "path = Path('../nbdev')\n",
    "path.mkdir(exist_ok=True)\n",
    "add_init(path)\n",
    "_export_nb(\"00_read.ipynb\", path)\n",
    "\n",
    "from nbdev import __version__\n",
    "from nbdev.read import *\n",
    "assert __version__,_export_nb"
   ]
  },
  {
   "cell_type": "markdown",
   "metadata": {},
   "source": [
    "## fin -"
   ]
  },
  {
   "cell_type": "code",
   "execution_count": null,
   "metadata": {},
   "outputs": [],
   "source": []
  }
 ],
 "metadata": {
  "kernelspec": {
   "display_name": "Python 3",
   "language": "python",
   "name": "python3"
  }
 },
 "nbformat": 4,
 "nbformat_minor": 4
}
